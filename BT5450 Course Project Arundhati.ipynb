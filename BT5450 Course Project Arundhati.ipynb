{
 "cells": [
  {
   "cell_type": "markdown",
   "metadata": {},
   "source": [
    "# Disease Prognosis using Predictive Modelling\n"
   ]
  },
  {
   "cell_type": "code",
   "execution_count": 1,
   "metadata": {},
   "outputs": [],
   "source": [
    "# importing libraries \n",
    "import pandas as pd \n",
    "import numpy as np \n",
    "import matplotlib.pyplot as plt \n",
    "import seaborn as sns\n",
    "%matplotlib inline\n",
    "import warnings\n",
    "warnings.filterwarnings(\"ignore\")"
   ]
  },
  {
   "cell_type": "code",
   "execution_count": 2,
   "metadata": {},
   "outputs": [],
   "source": [
    "df=pd.read_csv(\"data.csv\") #reading data storing it in dataframe"
   ]
  },
  {
   "cell_type": "code",
   "execution_count": 3,
   "metadata": {},
   "outputs": [
    {
     "data": {
      "text/html": [
       "<div>\n",
       "<style scoped>\n",
       "    .dataframe tbody tr th:only-of-type {\n",
       "        vertical-align: middle;\n",
       "    }\n",
       "\n",
       "    .dataframe tbody tr th {\n",
       "        vertical-align: top;\n",
       "    }\n",
       "\n",
       "    .dataframe thead th {\n",
       "        text-align: right;\n",
       "    }\n",
       "</style>\n",
       "<table border=\"1\" class=\"dataframe\">\n",
       "  <thead>\n",
       "    <tr style=\"text-align: right;\">\n",
       "      <th></th>\n",
       "      <th>id</th>\n",
       "      <th>diagnosis</th>\n",
       "      <th>radius_mean</th>\n",
       "      <th>texture_mean</th>\n",
       "      <th>perimeter_mean</th>\n",
       "      <th>area_mean</th>\n",
       "      <th>smoothness_mean</th>\n",
       "      <th>compactness_mean</th>\n",
       "      <th>concavity_mean</th>\n",
       "      <th>concave points_mean</th>\n",
       "      <th>...</th>\n",
       "      <th>texture_worst</th>\n",
       "      <th>perimeter_worst</th>\n",
       "      <th>area_worst</th>\n",
       "      <th>smoothness_worst</th>\n",
       "      <th>compactness_worst</th>\n",
       "      <th>concavity_worst</th>\n",
       "      <th>concave points_worst</th>\n",
       "      <th>symmetry_worst</th>\n",
       "      <th>fractal_dimension_worst</th>\n",
       "      <th>Unnamed: 32</th>\n",
       "    </tr>\n",
       "  </thead>\n",
       "  <tbody>\n",
       "    <tr>\n",
       "      <th>0</th>\n",
       "      <td>842302</td>\n",
       "      <td>M</td>\n",
       "      <td>17.99</td>\n",
       "      <td>10.38</td>\n",
       "      <td>122.80</td>\n",
       "      <td>1001.0</td>\n",
       "      <td>0.11840</td>\n",
       "      <td>0.27760</td>\n",
       "      <td>0.3001</td>\n",
       "      <td>0.14710</td>\n",
       "      <td>...</td>\n",
       "      <td>17.33</td>\n",
       "      <td>184.60</td>\n",
       "      <td>2019.0</td>\n",
       "      <td>0.1622</td>\n",
       "      <td>0.6656</td>\n",
       "      <td>0.7119</td>\n",
       "      <td>0.2654</td>\n",
       "      <td>0.4601</td>\n",
       "      <td>0.11890</td>\n",
       "      <td>NaN</td>\n",
       "    </tr>\n",
       "    <tr>\n",
       "      <th>1</th>\n",
       "      <td>842517</td>\n",
       "      <td>M</td>\n",
       "      <td>20.57</td>\n",
       "      <td>17.77</td>\n",
       "      <td>132.90</td>\n",
       "      <td>1326.0</td>\n",
       "      <td>0.08474</td>\n",
       "      <td>0.07864</td>\n",
       "      <td>0.0869</td>\n",
       "      <td>0.07017</td>\n",
       "      <td>...</td>\n",
       "      <td>23.41</td>\n",
       "      <td>158.80</td>\n",
       "      <td>1956.0</td>\n",
       "      <td>0.1238</td>\n",
       "      <td>0.1866</td>\n",
       "      <td>0.2416</td>\n",
       "      <td>0.1860</td>\n",
       "      <td>0.2750</td>\n",
       "      <td>0.08902</td>\n",
       "      <td>NaN</td>\n",
       "    </tr>\n",
       "    <tr>\n",
       "      <th>2</th>\n",
       "      <td>84300903</td>\n",
       "      <td>M</td>\n",
       "      <td>19.69</td>\n",
       "      <td>21.25</td>\n",
       "      <td>130.00</td>\n",
       "      <td>1203.0</td>\n",
       "      <td>0.10960</td>\n",
       "      <td>0.15990</td>\n",
       "      <td>0.1974</td>\n",
       "      <td>0.12790</td>\n",
       "      <td>...</td>\n",
       "      <td>25.53</td>\n",
       "      <td>152.50</td>\n",
       "      <td>1709.0</td>\n",
       "      <td>0.1444</td>\n",
       "      <td>0.4245</td>\n",
       "      <td>0.4504</td>\n",
       "      <td>0.2430</td>\n",
       "      <td>0.3613</td>\n",
       "      <td>0.08758</td>\n",
       "      <td>NaN</td>\n",
       "    </tr>\n",
       "    <tr>\n",
       "      <th>3</th>\n",
       "      <td>84348301</td>\n",
       "      <td>M</td>\n",
       "      <td>11.42</td>\n",
       "      <td>20.38</td>\n",
       "      <td>77.58</td>\n",
       "      <td>386.1</td>\n",
       "      <td>0.14250</td>\n",
       "      <td>0.28390</td>\n",
       "      <td>0.2414</td>\n",
       "      <td>0.10520</td>\n",
       "      <td>...</td>\n",
       "      <td>26.50</td>\n",
       "      <td>98.87</td>\n",
       "      <td>567.7</td>\n",
       "      <td>0.2098</td>\n",
       "      <td>0.8663</td>\n",
       "      <td>0.6869</td>\n",
       "      <td>0.2575</td>\n",
       "      <td>0.6638</td>\n",
       "      <td>0.17300</td>\n",
       "      <td>NaN</td>\n",
       "    </tr>\n",
       "    <tr>\n",
       "      <th>4</th>\n",
       "      <td>84358402</td>\n",
       "      <td>M</td>\n",
       "      <td>20.29</td>\n",
       "      <td>14.34</td>\n",
       "      <td>135.10</td>\n",
       "      <td>1297.0</td>\n",
       "      <td>0.10030</td>\n",
       "      <td>0.13280</td>\n",
       "      <td>0.1980</td>\n",
       "      <td>0.10430</td>\n",
       "      <td>...</td>\n",
       "      <td>16.67</td>\n",
       "      <td>152.20</td>\n",
       "      <td>1575.0</td>\n",
       "      <td>0.1374</td>\n",
       "      <td>0.2050</td>\n",
       "      <td>0.4000</td>\n",
       "      <td>0.1625</td>\n",
       "      <td>0.2364</td>\n",
       "      <td>0.07678</td>\n",
       "      <td>NaN</td>\n",
       "    </tr>\n",
       "  </tbody>\n",
       "</table>\n",
       "<p>5 rows × 33 columns</p>\n",
       "</div>"
      ],
      "text/plain": [
       "         id diagnosis  radius_mean  texture_mean  perimeter_mean  area_mean  \\\n",
       "0    842302         M        17.99         10.38          122.80     1001.0   \n",
       "1    842517         M        20.57         17.77          132.90     1326.0   \n",
       "2  84300903         M        19.69         21.25          130.00     1203.0   \n",
       "3  84348301         M        11.42         20.38           77.58      386.1   \n",
       "4  84358402         M        20.29         14.34          135.10     1297.0   \n",
       "\n",
       "   smoothness_mean  compactness_mean  concavity_mean  concave points_mean  \\\n",
       "0          0.11840           0.27760          0.3001              0.14710   \n",
       "1          0.08474           0.07864          0.0869              0.07017   \n",
       "2          0.10960           0.15990          0.1974              0.12790   \n",
       "3          0.14250           0.28390          0.2414              0.10520   \n",
       "4          0.10030           0.13280          0.1980              0.10430   \n",
       "\n",
       "   ...  texture_worst  perimeter_worst  area_worst  smoothness_worst  \\\n",
       "0  ...          17.33           184.60      2019.0            0.1622   \n",
       "1  ...          23.41           158.80      1956.0            0.1238   \n",
       "2  ...          25.53           152.50      1709.0            0.1444   \n",
       "3  ...          26.50            98.87       567.7            0.2098   \n",
       "4  ...          16.67           152.20      1575.0            0.1374   \n",
       "\n",
       "   compactness_worst  concavity_worst  concave points_worst  symmetry_worst  \\\n",
       "0             0.6656           0.7119                0.2654          0.4601   \n",
       "1             0.1866           0.2416                0.1860          0.2750   \n",
       "2             0.4245           0.4504                0.2430          0.3613   \n",
       "3             0.8663           0.6869                0.2575          0.6638   \n",
       "4             0.2050           0.4000                0.1625          0.2364   \n",
       "\n",
       "   fractal_dimension_worst  Unnamed: 32  \n",
       "0                  0.11890          NaN  \n",
       "1                  0.08902          NaN  \n",
       "2                  0.08758          NaN  \n",
       "3                  0.17300          NaN  \n",
       "4                  0.07678          NaN  \n",
       "\n",
       "[5 rows x 33 columns]"
      ]
     },
     "execution_count": 3,
     "metadata": {},
     "output_type": "execute_result"
    }
   ],
   "source": [
    "df.head()\n"
   ]
  },
  {
   "cell_type": "code",
   "execution_count": 4,
   "metadata": {},
   "outputs": [
    {
     "data": {
      "text/plain": [
       "(569, 33)"
      ]
     },
     "execution_count": 4,
     "metadata": {},
     "output_type": "execute_result"
    }
   ],
   "source": [
    "df.shape #showing number of instances (rows) and number of features including target variable (columns), respectively\n"
   ]
  },
  {
   "cell_type": "code",
   "execution_count": 5,
   "metadata": {},
   "outputs": [
    {
     "data": {
      "text/plain": [
       "Index(['id', 'diagnosis', 'radius_mean', 'texture_mean', 'perimeter_mean',\n",
       "       'area_mean', 'smoothness_mean', 'compactness_mean', 'concavity_mean',\n",
       "       'concave points_mean', 'symmetry_mean', 'fractal_dimension_mean',\n",
       "       'radius_se', 'texture_se', 'perimeter_se', 'area_se', 'smoothness_se',\n",
       "       'compactness_se', 'concavity_se', 'concave points_se', 'symmetry_se',\n",
       "       'fractal_dimension_se', 'radius_worst', 'texture_worst',\n",
       "       'perimeter_worst', 'area_worst', 'smoothness_worst',\n",
       "       'compactness_worst', 'concavity_worst', 'concave points_worst',\n",
       "       'symmetry_worst', 'fractal_dimension_worst', 'Unnamed: 32'],\n",
       "      dtype='object')"
      ]
     },
     "execution_count": 5,
     "metadata": {},
     "output_type": "execute_result"
    }
   ],
   "source": [
    "df.columns #names of columns"
   ]
  },
  {
   "cell_type": "code",
   "execution_count": 6,
   "metadata": {},
   "outputs": [
    {
     "data": {
      "text/plain": [
       "id                           0\n",
       "diagnosis                    0\n",
       "radius_mean                  0\n",
       "texture_mean                 0\n",
       "perimeter_mean               0\n",
       "area_mean                    0\n",
       "smoothness_mean              0\n",
       "compactness_mean             0\n",
       "concavity_mean               0\n",
       "concave points_mean          0\n",
       "symmetry_mean                0\n",
       "fractal_dimension_mean       0\n",
       "radius_se                    0\n",
       "texture_se                   0\n",
       "perimeter_se                 0\n",
       "area_se                      0\n",
       "smoothness_se                0\n",
       "compactness_se               0\n",
       "concavity_se                 0\n",
       "concave points_se            0\n",
       "symmetry_se                  0\n",
       "fractal_dimension_se         0\n",
       "radius_worst                 0\n",
       "texture_worst                0\n",
       "perimeter_worst              0\n",
       "area_worst                   0\n",
       "smoothness_worst             0\n",
       "compactness_worst            0\n",
       "concavity_worst              0\n",
       "concave points_worst         0\n",
       "symmetry_worst               0\n",
       "fractal_dimension_worst      0\n",
       "Unnamed: 32                569\n",
       "dtype: int64"
      ]
     },
     "execution_count": 6,
     "metadata": {},
     "output_type": "execute_result"
    }
   ],
   "source": [
    "#checking for missing values\n",
    "df.isnull().sum()\n",
    "df.isna().sum()"
   ]
  },
  {
   "cell_type": "code",
   "execution_count": 7,
   "metadata": {},
   "outputs": [],
   "source": [
    "df=df.drop(columns=['id','Unnamed: 32']) #removing 'id' and 'Unnamed: 32' columns because they are not useful for analysis purpose"
   ]
  },
  {
   "cell_type": "code",
   "execution_count": 8,
   "metadata": {},
   "outputs": [
    {
     "data": {
      "text/plain": [
       "B    357\n",
       "M    212\n",
       "Name: diagnosis, dtype: int64"
      ]
     },
     "execution_count": 8,
     "metadata": {},
     "output_type": "execute_result"
    }
   ],
   "source": [
    "#frequency of benign(B) and malignant(M)\n",
    "df['diagnosis'].value_counts()\n"
   ]
  },
  {
   "cell_type": "code",
   "execution_count": 9,
   "metadata": {},
   "outputs": [
    {
     "data": {
      "text/plain": [
       "<matplotlib.axes._subplots.AxesSubplot at 0x1a6a1a8cfd0>"
      ]
     },
     "execution_count": 9,
     "metadata": {},
     "output_type": "execute_result"
    },
    {
     "data": {
      "image/png": "[encoded data removed]",
      "text/plain": [
       "<Figure size 432x288 with 1 Axes>"
      ]
     },
     "metadata": {},
     "output_type": "display_data"
    }
   ],
   "source": [
    "#Frequency plot\n",
    "sns.set(style=\"darkgrid\")\n",
    "sns.countplot(df['diagnosis'], label=\"Frequency\")"
   ]
  },
  {
   "cell_type": "code",
   "execution_count": 10,
   "metadata": {},
   "outputs": [
    {
     "data": {
      "text/html": [
       "<div>\n",
       "<style scoped>\n",
       "    .dataframe tbody tr th:only-of-type {\n",
       "        vertical-align: middle;\n",
       "    }\n",
       "\n",
       "    .dataframe tbody tr th {\n",
       "        vertical-align: top;\n",
       "    }\n",
       "\n",
       "    .dataframe thead th {\n",
       "        text-align: right;\n",
       "    }\n",
       "</style>\n",
       "<table border=\"1\" class=\"dataframe\">\n",
       "  <thead>\n",
       "    <tr style=\"text-align: right;\">\n",
       "      <th></th>\n",
       "      <th>diagnosis</th>\n",
       "      <th>radius_mean</th>\n",
       "      <th>texture_mean</th>\n",
       "      <th>perimeter_mean</th>\n",
       "      <th>area_mean</th>\n",
       "      <th>smoothness_mean</th>\n",
       "      <th>compactness_mean</th>\n",
       "      <th>concavity_mean</th>\n",
       "      <th>concave points_mean</th>\n",
       "      <th>symmetry_mean</th>\n",
       "      <th>...</th>\n",
       "      <th>radius_worst</th>\n",
       "      <th>texture_worst</th>\n",
       "      <th>perimeter_worst</th>\n",
       "      <th>area_worst</th>\n",
       "      <th>smoothness_worst</th>\n",
       "      <th>compactness_worst</th>\n",
       "      <th>concavity_worst</th>\n",
       "      <th>concave points_worst</th>\n",
       "      <th>symmetry_worst</th>\n",
       "      <th>fractal_dimension_worst</th>\n",
       "    </tr>\n",
       "  </thead>\n",
       "  <tbody>\n",
       "    <tr>\n",
       "      <th>0</th>\n",
       "      <td>1</td>\n",
       "      <td>17.99</td>\n",
       "      <td>10.38</td>\n",
       "      <td>122.80</td>\n",
       "      <td>1001.0</td>\n",
       "      <td>0.11840</td>\n",
       "      <td>0.27760</td>\n",
       "      <td>0.3001</td>\n",
       "      <td>0.14710</td>\n",
       "      <td>0.2419</td>\n",
       "      <td>...</td>\n",
       "      <td>25.38</td>\n",
       "      <td>17.33</td>\n",
       "      <td>184.60</td>\n",
       "      <td>2019.0</td>\n",
       "      <td>0.1622</td>\n",
       "      <td>0.6656</td>\n",
       "      <td>0.7119</td>\n",
       "      <td>0.2654</td>\n",
       "      <td>0.4601</td>\n",
       "      <td>0.11890</td>\n",
       "    </tr>\n",
       "    <tr>\n",
       "      <th>1</th>\n",
       "      <td>1</td>\n",
       "      <td>20.57</td>\n",
       "      <td>17.77</td>\n",
       "      <td>132.90</td>\n",
       "      <td>1326.0</td>\n",
       "      <td>0.08474</td>\n",
       "      <td>0.07864</td>\n",
       "      <td>0.0869</td>\n",
       "      <td>0.07017</td>\n",
       "      <td>0.1812</td>\n",
       "      <td>...</td>\n",
       "      <td>24.99</td>\n",
       "      <td>23.41</td>\n",
       "      <td>158.80</td>\n",
       "      <td>1956.0</td>\n",
       "      <td>0.1238</td>\n",
       "      <td>0.1866</td>\n",
       "      <td>0.2416</td>\n",
       "      <td>0.1860</td>\n",
       "      <td>0.2750</td>\n",
       "      <td>0.08902</td>\n",
       "    </tr>\n",
       "    <tr>\n",
       "      <th>2</th>\n",
       "      <td>1</td>\n",
       "      <td>19.69</td>\n",
       "      <td>21.25</td>\n",
       "      <td>130.00</td>\n",
       "      <td>1203.0</td>\n",
       "      <td>0.10960</td>\n",
       "      <td>0.15990</td>\n",
       "      <td>0.1974</td>\n",
       "      <td>0.12790</td>\n",
       "      <td>0.2069</td>\n",
       "      <td>...</td>\n",
       "      <td>23.57</td>\n",
       "      <td>25.53</td>\n",
       "      <td>152.50</td>\n",
       "      <td>1709.0</td>\n",
       "      <td>0.1444</td>\n",
       "      <td>0.4245</td>\n",
       "      <td>0.4504</td>\n",
       "      <td>0.2430</td>\n",
       "      <td>0.3613</td>\n",
       "      <td>0.08758</td>\n",
       "    </tr>\n",
       "    <tr>\n",
       "      <th>3</th>\n",
       "      <td>1</td>\n",
       "      <td>11.42</td>\n",
       "      <td>20.38</td>\n",
       "      <td>77.58</td>\n",
       "      <td>386.1</td>\n",
       "      <td>0.14250</td>\n",
       "      <td>0.28390</td>\n",
       "      <td>0.2414</td>\n",
       "      <td>0.10520</td>\n",
       "      <td>0.2597</td>\n",
       "      <td>...</td>\n",
       "      <td>14.91</td>\n",
       "      <td>26.50</td>\n",
       "      <td>98.87</td>\n",
       "      <td>567.7</td>\n",
       "      <td>0.2098</td>\n",
       "      <td>0.8663</td>\n",
       "      <td>0.6869</td>\n",
       "      <td>0.2575</td>\n",
       "      <td>0.6638</td>\n",
       "      <td>0.17300</td>\n",
       "    </tr>\n",
       "    <tr>\n",
       "      <th>4</th>\n",
       "      <td>1</td>\n",
       "      <td>20.29</td>\n",
       "      <td>14.34</td>\n",
       "      <td>135.10</td>\n",
       "      <td>1297.0</td>\n",
       "      <td>0.10030</td>\n",
       "      <td>0.13280</td>\n",
       "      <td>0.1980</td>\n",
       "      <td>0.10430</td>\n",
       "      <td>0.1809</td>\n",
       "      <td>...</td>\n",
       "      <td>22.54</td>\n",
       "      <td>16.67</td>\n",
       "      <td>152.20</td>\n",
       "      <td>1575.0</td>\n",
       "      <td>0.1374</td>\n",
       "      <td>0.2050</td>\n",
       "      <td>0.4000</td>\n",
       "      <td>0.1625</td>\n",
       "      <td>0.2364</td>\n",
       "      <td>0.07678</td>\n",
       "    </tr>\n",
       "  </tbody>\n",
       "</table>\n",
       "<p>5 rows × 31 columns</p>\n",
       "</div>"
      ],
      "text/plain": [
       "   diagnosis  radius_mean  texture_mean  perimeter_mean  area_mean  \\\n",
       "0          1        17.99         10.38          122.80     1001.0   \n",
       "1          1        20.57         17.77          132.90     1326.0   \n",
       "2          1        19.69         21.25          130.00     1203.0   \n",
       "3          1        11.42         20.38           77.58      386.1   \n",
       "4          1        20.29         14.34          135.10     1297.0   \n",
       "\n",
       "   smoothness_mean  compactness_mean  concavity_mean  concave points_mean  \\\n",
       "0          0.11840           0.27760          0.3001              0.14710   \n",
       "1          0.08474           0.07864          0.0869              0.07017   \n",
       "2          0.10960           0.15990          0.1974              0.12790   \n",
       "3          0.14250           0.28390          0.2414              0.10520   \n",
       "4          0.10030           0.13280          0.1980              0.10430   \n",
       "\n",
       "   symmetry_mean  ...  radius_worst  texture_worst  perimeter_worst  \\\n",
       "0         0.2419  ...         25.38          17.33           184.60   \n",
       "1         0.1812  ...         24.99          23.41           158.80   \n",
       "2         0.2069  ...         23.57          25.53           152.50   \n",
       "3         0.2597  ...         14.91          26.50            98.87   \n",
       "4         0.1809  ...         22.54          16.67           152.20   \n",
       "\n",
       "   area_worst  smoothness_worst  compactness_worst  concavity_worst  \\\n",
       "0      2019.0            0.1622             0.6656           0.7119   \n",
       "1      1956.0            0.1238             0.1866           0.2416   \n",
       "2      1709.0            0.1444             0.4245           0.4504   \n",
       "3       567.7            0.2098             0.8663           0.6869   \n",
       "4      1575.0            0.1374             0.2050           0.4000   \n",
       "\n",
       "   concave points_worst  symmetry_worst  fractal_dimension_worst  \n",
       "0                0.2654          0.4601                  0.11890  \n",
       "1                0.1860          0.2750                  0.08902  \n",
       "2                0.2430          0.3613                  0.08758  \n",
       "3                0.2575          0.6638                  0.17300  \n",
       "4                0.1625          0.2364                  0.07678  \n",
       "\n",
       "[5 rows x 31 columns]"
      ]
     },
     "execution_count": 10,
     "metadata": {},
     "output_type": "execute_result"
    }
   ],
   "source": [
    "#feature mapping for 'diagnosis'(target variable)\n",
    "#M as 1 and B as 0\n",
    "binary_map = {'diagnosis':{'M':1,'B':0}}\n",
    "df.replace(binary_map, inplace=True)\n",
    "df.head()"
   ]
  },
  {
   "cell_type": "code",
   "execution_count": 11,
   "metadata": {},
   "outputs": [],
   "source": [
    "X=df.drop(columns=['diagnosis']) #features(without target variable)\n",
    "y=df['diagnosis'] #target variable\n"
   ]
  },
  {
   "cell_type": "code",
   "execution_count": 12,
   "metadata": {},
   "outputs": [
    {
     "name": "stdout",
     "output_type": "stream",
     "text": [
      "\n",
      "After Min-Max Scaling : \n",
      "      diagnosis  radius_mean  texture_mean  perimeter_mean  area_mean  \\\n",
      "0          1.0     0.521037      0.022658        0.545989   0.363733   \n",
      "1          1.0     0.643144      0.272574        0.615783   0.501591   \n",
      "2          1.0     0.601496      0.390260        0.595743   0.449417   \n",
      "3          1.0     0.210090      0.360839        0.233501   0.102906   \n",
      "4          1.0     0.629893      0.156578        0.630986   0.489290   \n",
      "5          1.0     0.258839      0.202570        0.267984   0.141506   \n",
      "6          1.0     0.533343      0.347311        0.523875   0.380276   \n",
      "7          1.0     0.318472      0.376057        0.320710   0.184263   \n",
      "8          1.0     0.284869      0.409537        0.302052   0.159618   \n",
      "9          1.0     0.259312      0.484613        0.277659   0.140997   \n",
      "10         1.0     0.427801      0.457558        0.407090   0.277540   \n",
      "11         1.0     0.416442      0.276632        0.413309   0.270414   \n",
      "12         1.0     0.576885      0.510315        0.612328   0.415483   \n",
      "13         1.0     0.419755      0.481569        0.414000   0.271135   \n",
      "14         1.0     0.319419      0.436253        0.344206   0.184433   \n",
      "15         1.0     0.357755      0.602976        0.365835   0.218579   \n",
      "16         1.0     0.364381      0.352384        0.352083   0.229480   \n",
      "17         1.0     0.433007      0.370984        0.444406   0.277964   \n",
      "18         1.0     0.607175      0.420697        0.595743   0.473595   \n",
      "19         0.0     0.310426      0.157254        0.301776   0.179343   \n",
      "20         0.0     0.288655      0.202908        0.289130   0.159703   \n",
      "21         0.0     0.119409      0.092323        0.114367   0.055313   \n",
      "22         1.0     0.395617      0.153872        0.405708   0.237922   \n",
      "23         1.0     0.671068      0.450795        0.645498   0.534677   \n",
      "24         1.0     0.457617      0.394657        0.457536   0.322842   \n",
      "25         1.0     0.480808      0.226243        0.498998   0.326278   \n",
      "26         1.0     0.359648      0.399729        0.370534   0.212641   \n",
      "27         1.0     0.550381      0.356442        0.541151   0.403181   \n",
      "28         1.0     0.393724      0.526209        0.405017   0.249799   \n",
      "29         1.0     0.501160      0.180588        0.492088   0.344263   \n",
      "..         ...          ...           ...             ...        ...   \n",
      "539        0.0     0.033603      0.531958        0.031442   0.011410   \n",
      "540        0.0     0.215770      0.159959        0.213254   0.110032   \n",
      "541        0.0     0.354442      0.516740        0.359478   0.217561   \n",
      "542        0.0     0.367220      0.531282        0.351807   0.222736   \n",
      "543        0.0     0.294808      0.620561        0.283947   0.167508   \n",
      "544        0.0     0.326045      0.371660        0.317739   0.187190   \n",
      "545        0.0     0.314213      0.457220        0.299910   0.182269   \n",
      "546        0.0     0.158029      0.224552        0.148711   0.076946   \n",
      "547        0.0     0.155190      0.232330        0.152443   0.075207   \n",
      "548        0.0     0.127881      0.325668        0.119273   0.060318   \n",
      "549        0.0     0.181693      0.490362        0.173450   0.092513   \n",
      "550        0.0     0.183587      0.398039        0.170824   0.092047   \n",
      "551        0.0     0.196365      0.430504        0.191417   0.099639   \n",
      "552        0.0     0.273984      0.666892        0.259554   0.154571   \n",
      "553        0.0     0.111316      0.413595        0.105176   0.051113   \n",
      "554        0.0     0.279190      0.649645        0.267501   0.157285   \n",
      "555        0.0     0.156609      0.605343        0.151199   0.075461   \n",
      "556        0.0     0.150457      0.334122        0.144703   0.071347   \n",
      "557        0.0     0.115576      0.614474        0.106903   0.054210   \n",
      "558        0.0     0.360121      0.438620        0.363486   0.217858   \n",
      "559        0.0     0.214350      0.480893        0.212356   0.110286   \n",
      "560        0.0     0.334564      0.589787        0.328865   0.193807   \n",
      "561        0.0     0.199678      0.664863        0.185751   0.102863   \n",
      "562        1.0     0.389938      0.707136        0.411927   0.243224   \n",
      "563        1.0     0.659709      0.520122        0.685578   0.510498   \n",
      "564        1.0     0.690000      0.428813        0.678668   0.566490   \n",
      "565        1.0     0.622320      0.626987        0.604036   0.474019   \n",
      "566        1.0     0.455251      0.621238        0.445788   0.303118   \n",
      "567        1.0     0.644564      0.663510        0.665538   0.475716   \n",
      "568        0.0     0.036869      0.501522        0.028540   0.015907   \n",
      "\n",
      "     smoothness_mean  compactness_mean  concavity_mean  concave points_mean  \\\n",
      "0           0.593753          0.792037        0.703140             0.731113   \n",
      "1           0.289880          0.181768        0.203608             0.348757   \n",
      "2           0.514309          0.431017        0.462512             0.635686   \n",
      "3           0.811321          0.811361        0.565604             0.522863   \n",
      "4           0.430351          0.347893        0.463918             0.518390   \n",
      "5           0.678613          0.461996        0.369728             0.402038   \n",
      "6           0.379164          0.274891        0.264058             0.367793   \n",
      "7           0.598267          0.445126        0.219447             0.297465   \n",
      "8           0.674099          0.533157        0.435567             0.464861   \n",
      "9           0.595558          0.675480        0.532568             0.424602   \n",
      "10          0.265686          0.145114        0.077296             0.165159   \n",
      "11          0.401462          0.336850        0.233224             0.328330   \n",
      "12          0.404171          0.694497        0.483833             0.555666   \n",
      "13          0.283290          0.247899        0.232849             0.266600   \n",
      "14          0.545906          0.643887        0.498594             0.398857   \n",
      "15          0.553128          0.429790        0.384021             0.366004   \n",
      "16          0.415636          0.161401        0.173266             0.261382   \n",
      "17          0.581114          0.560763        0.403468             0.510934   \n",
      "18          0.412386          0.255567        0.346532             0.472068   \n",
      "19          0.407692          0.189896        0.156139             0.237624   \n",
      "20          0.495351          0.330102        0.107029             0.154573   \n",
      "21          0.449309          0.139685        0.069260             0.103181   \n",
      "22          0.493545          0.595424        0.486645             0.484891   \n",
      "23          0.376004          0.254033        0.257029             0.429026   \n",
      "24          0.536878          0.387461        0.357310             0.455765   \n",
      "25          0.595558          0.638672        0.522259             0.696322   \n",
      "26          0.476393          0.513527        0.333880             0.436531   \n",
      "27          0.377088          0.267530        0.349110             0.384245   \n",
      "28          0.501670          0.461076        0.394330             0.434940   \n",
      "29          0.413830          0.295442        0.231373             0.395278   \n",
      "..               ...               ...             ...                  ...   \n",
      "539         0.307394          0.308325        0.216776             0.067793   \n",
      "540         0.426198          0.284093        0.157849             0.128926   \n",
      "541         0.322651          0.317833        0.236410             0.193340   \n",
      "542         0.271915          0.161831        0.096181             0.150447   \n",
      "543         0.307665          0.151494        0.069986             0.162773   \n",
      "544         0.389546          0.252807        0.086410             0.117744   \n",
      "545         0.359574          0.147506        0.069681             0.121421   \n",
      "546         0.376546          0.093737        0.023711             0.027311   \n",
      "547         0.326262          0.187964        0.102109             0.121173   \n",
      "548         0.291415          0.094841        0.054756             0.047788   \n",
      "549         0.264422          0.143059        0.036270             0.040557   \n",
      "550         0.195721          0.070210        0.000000             0.000000   \n",
      "551         0.388463          0.191890        0.113027             0.112177   \n",
      "552         0.272005          0.070425        0.046790             0.074503   \n",
      "553         0.359032          0.112478        0.093627             0.063718   \n",
      "554         0.258193          0.119195        0.145150             0.116451   \n",
      "555         0.340074          0.175449        0.140558             0.136083   \n",
      "556         0.430351          0.170726        0.011774             0.055467   \n",
      "557         0.258193          0.093031        0.000000             0.000000   \n",
      "558         0.289790          0.348506        0.241097             0.185686   \n",
      "559         0.360928          0.253727        0.260544             0.204026   \n",
      "560         0.421233          0.285933        0.104545             0.213917   \n",
      "561         0.197346          0.049690        0.000000             0.000000   \n",
      "562         0.470976          0.580701        0.597470             0.468638   \n",
      "563         0.517017          0.626403        0.743674             0.732604   \n",
      "564         0.526948          0.296055        0.571462             0.690358   \n",
      "565         0.407782          0.257714        0.337395             0.486630   \n",
      "566         0.288165          0.254340        0.216753             0.263519   \n",
      "567         0.588336          0.790197        0.823336             0.755467   \n",
      "568         0.000000          0.074351        0.000000             0.000000   \n",
      "\n",
      "     symmetry_mean  ...  radius_worst  texture_worst  perimeter_worst  \\\n",
      "0         0.686364  ...      0.620776       0.141525         0.668310   \n",
      "1         0.379798  ...      0.606901       0.303571         0.539818   \n",
      "2         0.509596  ...      0.556386       0.360075         0.508442   \n",
      "3         0.776263  ...      0.248310       0.385928         0.241347   \n",
      "4         0.378283  ...      0.519744       0.123934         0.506948   \n",
      "5         0.518687  ...      0.268232       0.312633         0.263908   \n",
      "6         0.370707  ...      0.531839       0.416844         0.511928   \n",
      "7         0.573737  ...      0.324795       0.429638         0.299766   \n",
      "8         0.651515  ...      0.268943       0.498667         0.277852   \n",
      "9         0.489899  ...      0.254714       0.763859         0.235271   \n",
      "10        0.236364  ...      0.400569       0.582623         0.365506   \n",
      "11        0.394949  ...      0.444326       0.406716         0.428756   \n",
      "12        0.675253  ...      0.463536       0.477612         0.504457   \n",
      "13        0.397475  ...      0.316969       0.416844         0.306738   \n",
      "14        0.509596  ...      0.252579       0.532783         0.290801   \n",
      "15        0.627778  ...      0.339025       0.669243         0.367000   \n",
      "16        0.265657  ...      0.396300       0.502665         0.363514   \n",
      "17        0.557576  ...      0.463536       0.518657         0.430251   \n",
      "18        0.263636  ...      0.689790       0.502665         0.679267   \n",
      "19        0.416667  ...      0.255425       0.192964         0.245480   \n",
      "20        0.458081  ...      0.233725       0.225746         0.227501   \n",
      "21        0.381313  ...      0.081821       0.097015         0.073310   \n",
      "22        0.737879  ...      0.360726       0.188166         0.371981   \n",
      "23        0.358081  ...      0.755603       0.628198         0.685243   \n",
      "24        0.472222  ...      0.659196       0.520789         0.630460   \n",
      "25        1.000000  ...      0.509427       0.250000         0.507944   \n",
      "26        0.602020  ...      0.344717       0.564765         0.358534   \n",
      "27        0.321717  ...      0.475987       0.406183         0.445690   \n",
      "28        0.437374  ...      0.438990       0.658049         0.492505   \n",
      "29        0.342929  ...      0.429740       0.199893         0.420788   \n",
      "..             ...  ...           ...            ...              ...   \n",
      "539       0.493434  ...      0.026610       0.529584         0.020320   \n",
      "540       0.382828  ...      0.154038       0.204158         0.141292   \n",
      "541       0.410101  ...      0.294913       0.525320         0.314209   \n",
      "542       0.393939  ...      0.305229       0.540245         0.283829   \n",
      "543       0.286869  ...      0.229100       0.670309         0.209522   \n",
      "544       0.282828  ...      0.253291       0.339286         0.242841   \n",
      "545       0.305051  ...      0.263963       0.454957         0.234922   \n",
      "546       0.416667  ...      0.118107       0.259861         0.103143   \n",
      "547       0.307576  ...      0.103166       0.267058         0.102943   \n",
      "548       0.262626  ...      0.106724       0.361674         0.093082   \n",
      "549       0.462626  ...      0.181430       0.517857         0.166791   \n",
      "550       0.303535  ...      0.132693       0.339819         0.117884   \n",
      "551       0.489899  ...      0.145500       0.432836         0.136411   \n",
      "552       0.241919  ...      0.211313       0.639126         0.187709   \n",
      "553       0.319192  ...      0.068125       0.347281         0.062005   \n",
      "554       0.255556  ...      0.212024       0.632196         0.191394   \n",
      "555       0.269192  ...      0.103522       0.610075         0.095423   \n",
      "556       0.369192  ...      0.096763       0.289446         0.087006   \n",
      "557       0.344444  ...      0.091071       0.592217         0.080133   \n",
      "558       0.198990  ...      0.268588       0.406450         0.276358   \n",
      "559       0.165657  ...      0.161864       0.670043         0.158723   \n",
      "560       0.240909  ...      0.262184       0.563699         0.247971   \n",
      "561       0.000000  ...      0.141942       0.700426         0.123413   \n",
      "562       0.539394  ...      0.341160       0.820096         0.389910   \n",
      "563       0.550000  ...      0.581999       0.463486         0.640918   \n",
      "564       0.336364  ...      0.623266       0.383262         0.576174   \n",
      "565       0.349495  ...      0.560655       0.699094         0.520892   \n",
      "566       0.267677  ...      0.393099       0.589019         0.379949   \n",
      "567       0.675253  ...      0.633582       0.730277         0.668310   \n",
      "568       0.266162  ...      0.054287       0.489072         0.043578   \n",
      "\n",
      "     area_worst  smoothness_worst  compactness_worst  concavity_worst  \\\n",
      "0      0.450698          0.601136           0.619292         0.568610   \n",
      "1      0.435214          0.347553           0.154563         0.192971   \n",
      "2      0.374508          0.483590           0.385375         0.359744   \n",
      "3      0.094008          0.915472           0.814012         0.548642   \n",
      "4      0.341575          0.437364           0.172415         0.319489   \n",
      "5      0.136748          0.712739           0.482784         0.427716   \n",
      "6      0.349194          0.482269           0.223448         0.302236   \n",
      "7      0.174941          0.622268           0.330753         0.213898   \n",
      "8      0.136183          0.654626           0.497531         0.430511   \n",
      "9      0.129326          0.753682           1.000000         0.882588   \n",
      "10     0.237122          0.309912           0.124002         0.116534   \n",
      "11     0.273742          0.451892           0.517711         0.316693   \n",
      "12     0.281852          0.214819           0.352194         0.290655   \n",
      "13     0.169903          0.276894           0.160191         0.185463   \n",
      "14     0.125959          0.620287           0.723006         0.554553   \n",
      "15     0.186296          0.638117           0.611627         0.561182   \n",
      "16     0.234172          0.496797           0.155048         0.232748   \n",
      "17     0.277674          0.711418           0.384211         0.382109   \n",
      "18     0.543846          0.528495           0.279138         0.429073   \n",
      "19     0.129276          0.480948           0.145540         0.190895   \n",
      "20     0.109443          0.396421           0.242852         0.150958   \n",
      "21     0.031877          0.404345           0.084903         0.070823   \n",
      "22     0.195561          0.447930           0.551183         0.503594   \n",
      "23     0.597179          0.455194           0.225776         0.251997   \n",
      "24     0.498869          0.721984           0.320662         0.375000   \n",
      "25     0.313557          0.550287           0.356657         0.307748   \n",
      "26     0.174916          0.537080           0.618030         0.442412   \n",
      "27     0.299302          0.413590           0.178916         0.275240   \n",
      "28     0.266368          0.613683           0.566318         0.505990   \n",
      "29     0.256046          0.358780           0.246345         0.198802   \n",
      "..          ...               ...                ...              ...   \n",
      "539    0.009438          0.583966           0.270794         0.271006   \n",
      "540    0.066998          0.418213           0.179013         0.143530   \n",
      "541    0.153288          0.414911           0.381203         0.322684   \n",
      "542    0.157589          0.230007           0.107023         0.128674   \n",
      "543    0.109221          0.237932           0.107508         0.084824   \n",
      "544    0.123722          0.364723           0.171154         0.109984   \n",
      "545    0.133848          0.333025           0.120703         0.083786   \n",
      "546    0.049081          0.378591           0.059309         0.035016   \n",
      "547    0.042322          0.494816           0.191431         0.142412   \n",
      "548    0.043993          0.321799           0.066139         0.074681   \n",
      "549    0.078746          0.325101           0.131958         0.049473   \n",
      "550    0.055815          0.191045           0.044814         0.000000   \n",
      "551    0.061787          0.247837           0.146414         0.124920   \n",
      "552    0.100644          0.344912           0.076753         0.069113   \n",
      "553    0.027182          0.258403           0.054031         0.063842   \n",
      "554    0.100890          0.340289           0.130696         0.194808   \n",
      "555    0.042371          0.443968           0.139428         0.159744   \n",
      "556    0.039840          0.365383           0.089948         0.008027   \n",
      "557    0.035735          0.238592           0.042970         0.000000   \n",
      "558    0.134757          0.207555           0.281175         0.292492   \n",
      "559    0.071028          0.387176           0.217724         0.289936   \n",
      "560    0.128170          0.349534           0.193178         0.105911   \n",
      "561    0.062525          0.141980           0.026826         0.000000   \n",
      "562    0.179365          0.465760           0.741634         0.934505   \n",
      "563    0.401543          0.459156           0.379651         0.527077   \n",
      "564    0.452664          0.461137           0.178527         0.328035   \n",
      "565    0.379915          0.300007           0.159997         0.256789   \n",
      "566    0.230731          0.282177           0.273705         0.271805   \n",
      "567    0.402035          0.619626           0.815758         0.749760   \n",
      "568    0.020497          0.124084           0.036043         0.000000   \n",
      "\n",
      "     concave points_worst  symmetry_worst  fractal_dimension_worst  \n",
      "0                0.912027        0.598462                 0.418864  \n",
      "1                0.639175        0.233590                 0.222878  \n",
      "2                0.835052        0.403706                 0.213433  \n",
      "3                0.884880        1.000000                 0.773711  \n",
      "4                0.558419        0.157500                 0.142595  \n",
      "5                0.598282        0.477035                 0.454939  \n",
      "6                0.663918        0.295289                 0.187853  \n",
      "7                0.534708        0.321506                 0.393939  \n",
      "8                0.707904        0.554504                 0.342123  \n",
      "9                0.759450        0.552139                 1.000000  \n",
      "10               0.342784        0.272620                 0.193362  \n",
      "11               0.621993        0.438991                 0.326381  \n",
      "12               0.607216        0.317564                 0.309983  \n",
      "13               0.384536        0.245220                 0.051358  \n",
      "14               0.758763        0.400355                 0.577594  \n",
      "15               0.588316        0.522965                 0.518562  \n",
      "16               0.552921        0.288587                 0.177883  \n",
      "17               0.712371        0.422038                 0.388036  \n",
      "18               0.820619        0.237138                 0.138463  \n",
      "19               0.442612        0.278336                 0.115112  \n",
      "20               0.250275        0.319141                 0.175718  \n",
      "21               0.213986        0.174453                 0.148826  \n",
      "22               0.822337        0.611473                 0.291355  \n",
      "23               0.690378        0.247782                 0.132625  \n",
      "24               0.719931        0.403706                 0.266299  \n",
      "25               0.876289        0.493002                 0.333596  \n",
      "26               0.928179        0.532032                 0.475272  \n",
      "27               0.512027        0.152967                 0.125738  \n",
      "28               0.695533        0.485314                 0.286764  \n",
      "29               0.500344        0.234772                 0.158402  \n",
      "..                    ...             ...                      ...  \n",
      "539              0.171821        0.241474                 0.338187  \n",
      "540              0.237732        0.150601                 0.172504  \n",
      "541              0.414089        0.319732                 0.309983  \n",
      "542              0.376289        0.228070                 0.095238  \n",
      "543              0.273471        0.178987                 0.061590  \n",
      "544              0.235223        0.134831                 0.195986  \n",
      "545              0.246529        0.212300                 0.095041  \n",
      "546              0.081821        0.219988                 0.124295  \n",
      "547              0.286357        0.221959                 0.260724  \n",
      "548              0.132165        0.194559                 0.158468  \n",
      "549              0.112165        0.294500                 0.139184  \n",
      "550              0.000000        0.176030                 0.071363  \n",
      "551              0.220378        0.316184                 0.165814  \n",
      "552              0.223299        0.165977                 0.064279  \n",
      "553              0.088110        0.171496                 0.123901  \n",
      "554              0.223127        0.159077                 0.113997  \n",
      "555              0.313643        0.130298                 0.182277  \n",
      "556              0.076701        0.137394                 0.081202  \n",
      "557              0.000000        0.179381                 0.096091  \n",
      "558              0.379725        0.136606                 0.163977  \n",
      "559              0.331718        0.107826                 0.211728  \n",
      "560              0.360137        0.135029                 0.184770  \n",
      "561              0.000000        0.000197                 0.026302  \n",
      "562              0.809622        0.497536                 0.563164  \n",
      "563              0.873540        0.268874                 0.286567  \n",
      "564              0.761512        0.097575                 0.105667  \n",
      "565              0.559450        0.198502                 0.074315  \n",
      "566              0.487285        0.128721                 0.151909  \n",
      "567              0.910653        0.497142                 0.452315  \n",
      "568              0.000000        0.257441                 0.100682  \n",
      "\n",
      "[569 rows x 31 columns]\n"
     ]
    }
   ],
   "source": [
    " #Min max scaling of all features\n",
    "df_scaled=(df-df.min())/(df.max()-df.min())\n",
    "print (\"\\nAfter Min-Max Scaling : \\n\", df_scaled) \n"
   ]
  },
  {
   "cell_type": "code",
   "execution_count": 13,
   "metadata": {},
   "outputs": [
    {
     "name": "stdout",
     "output_type": "stream",
     "text": [
      "\n",
      "After Min-Max Scaling : \n",
      "      radius_mean  texture_mean  perimeter_mean  area_mean  smoothness_mean  \\\n",
      "0       0.521037      0.022658        0.545989   0.363733         0.593753   \n",
      "1       0.643144      0.272574        0.615783   0.501591         0.289880   \n",
      "2       0.601496      0.390260        0.595743   0.449417         0.514309   \n",
      "3       0.210090      0.360839        0.233501   0.102906         0.811321   \n",
      "4       0.629893      0.156578        0.630986   0.489290         0.430351   \n",
      "5       0.258839      0.202570        0.267984   0.141506         0.678613   \n",
      "6       0.533343      0.347311        0.523875   0.380276         0.379164   \n",
      "7       0.318472      0.376057        0.320710   0.184263         0.598267   \n",
      "8       0.284869      0.409537        0.302052   0.159618         0.674099   \n",
      "9       0.259312      0.484613        0.277659   0.140997         0.595558   \n",
      "10      0.427801      0.457558        0.407090   0.277540         0.265686   \n",
      "11      0.416442      0.276632        0.413309   0.270414         0.401462   \n",
      "12      0.576885      0.510315        0.612328   0.415483         0.404171   \n",
      "13      0.419755      0.481569        0.414000   0.271135         0.283290   \n",
      "14      0.319419      0.436253        0.344206   0.184433         0.545906   \n",
      "15      0.357755      0.602976        0.365835   0.218579         0.553128   \n",
      "16      0.364381      0.352384        0.352083   0.229480         0.415636   \n",
      "17      0.433007      0.370984        0.444406   0.277964         0.581114   \n",
      "18      0.607175      0.420697        0.595743   0.473595         0.412386   \n",
      "19      0.310426      0.157254        0.301776   0.179343         0.407692   \n",
      "20      0.288655      0.202908        0.289130   0.159703         0.495351   \n",
      "21      0.119409      0.092323        0.114367   0.055313         0.449309   \n",
      "22      0.395617      0.153872        0.405708   0.237922         0.493545   \n",
      "23      0.671068      0.450795        0.645498   0.534677         0.376004   \n",
      "24      0.457617      0.394657        0.457536   0.322842         0.536878   \n",
      "25      0.480808      0.226243        0.498998   0.326278         0.595558   \n",
      "26      0.359648      0.399729        0.370534   0.212641         0.476393   \n",
      "27      0.550381      0.356442        0.541151   0.403181         0.377088   \n",
      "28      0.393724      0.526209        0.405017   0.249799         0.501670   \n",
      "29      0.501160      0.180588        0.492088   0.344263         0.413830   \n",
      "..           ...           ...             ...        ...              ...   \n",
      "539     0.033603      0.531958        0.031442   0.011410         0.307394   \n",
      "540     0.215770      0.159959        0.213254   0.110032         0.426198   \n",
      "541     0.354442      0.516740        0.359478   0.217561         0.322651   \n",
      "542     0.367220      0.531282        0.351807   0.222736         0.271915   \n",
      "543     0.294808      0.620561        0.283947   0.167508         0.307665   \n",
      "544     0.326045      0.371660        0.317739   0.187190         0.389546   \n",
      "545     0.314213      0.457220        0.299910   0.182269         0.359574   \n",
      "546     0.158029      0.224552        0.148711   0.076946         0.376546   \n",
      "547     0.155190      0.232330        0.152443   0.075207         0.326262   \n",
      "548     0.127881      0.325668        0.119273   0.060318         0.291415   \n",
      "549     0.181693      0.490362        0.173450   0.092513         0.264422   \n",
      "550     0.183587      0.398039        0.170824   0.092047         0.195721   \n",
      "551     0.196365      0.430504        0.191417   0.099639         0.388463   \n",
      "552     0.273984      0.666892        0.259554   0.154571         0.272005   \n",
      "553     0.111316      0.413595        0.105176   0.051113         0.359032   \n",
      "554     0.279190      0.649645        0.267501   0.157285         0.258193   \n",
      "555     0.156609      0.605343        0.151199   0.075461         0.340074   \n",
      "556     0.150457      0.334122        0.144703   0.071347         0.430351   \n",
      "557     0.115576      0.614474        0.106903   0.054210         0.258193   \n",
      "558     0.360121      0.438620        0.363486   0.217858         0.289790   \n",
      "559     0.214350      0.480893        0.212356   0.110286         0.360928   \n",
      "560     0.334564      0.589787        0.328865   0.193807         0.421233   \n",
      "561     0.199678      0.664863        0.185751   0.102863         0.197346   \n",
      "562     0.389938      0.707136        0.411927   0.243224         0.470976   \n",
      "563     0.659709      0.520122        0.685578   0.510498         0.517017   \n",
      "564     0.690000      0.428813        0.678668   0.566490         0.526948   \n",
      "565     0.622320      0.626987        0.604036   0.474019         0.407782   \n",
      "566     0.455251      0.621238        0.445788   0.303118         0.288165   \n",
      "567     0.644564      0.663510        0.665538   0.475716         0.588336   \n",
      "568     0.036869      0.501522        0.028540   0.015907         0.000000   \n",
      "\n",
      "     compactness_mean  concavity_mean  concave points_mean  symmetry_mean  \\\n",
      "0            0.792037        0.703140             0.731113       0.686364   \n",
      "1            0.181768        0.203608             0.348757       0.379798   \n",
      "2            0.431017        0.462512             0.635686       0.509596   \n",
      "3            0.811361        0.565604             0.522863       0.776263   \n",
      "4            0.347893        0.463918             0.518390       0.378283   \n",
      "5            0.461996        0.369728             0.402038       0.518687   \n",
      "6            0.274891        0.264058             0.367793       0.370707   \n",
      "7            0.445126        0.219447             0.297465       0.573737   \n",
      "8            0.533157        0.435567             0.464861       0.651515   \n",
      "9            0.675480        0.532568             0.424602       0.489899   \n",
      "10           0.145114        0.077296             0.165159       0.236364   \n",
      "11           0.336850        0.233224             0.328330       0.394949   \n",
      "12           0.694497        0.483833             0.555666       0.675253   \n",
      "13           0.247899        0.232849             0.266600       0.397475   \n",
      "14           0.643887        0.498594             0.398857       0.509596   \n",
      "15           0.429790        0.384021             0.366004       0.627778   \n",
      "16           0.161401        0.173266             0.261382       0.265657   \n",
      "17           0.560763        0.403468             0.510934       0.557576   \n",
      "18           0.255567        0.346532             0.472068       0.263636   \n",
      "19           0.189896        0.156139             0.237624       0.416667   \n",
      "20           0.330102        0.107029             0.154573       0.458081   \n",
      "21           0.139685        0.069260             0.103181       0.381313   \n",
      "22           0.595424        0.486645             0.484891       0.737879   \n",
      "23           0.254033        0.257029             0.429026       0.358081   \n",
      "24           0.387461        0.357310             0.455765       0.472222   \n",
      "25           0.638672        0.522259             0.696322       1.000000   \n",
      "26           0.513527        0.333880             0.436531       0.602020   \n",
      "27           0.267530        0.349110             0.384245       0.321717   \n",
      "28           0.461076        0.394330             0.434940       0.437374   \n",
      "29           0.295442        0.231373             0.395278       0.342929   \n",
      "..                ...             ...                  ...            ...   \n",
      "539          0.308325        0.216776             0.067793       0.493434   \n",
      "540          0.284093        0.157849             0.128926       0.382828   \n",
      "541          0.317833        0.236410             0.193340       0.410101   \n",
      "542          0.161831        0.096181             0.150447       0.393939   \n",
      "543          0.151494        0.069986             0.162773       0.286869   \n",
      "544          0.252807        0.086410             0.117744       0.282828   \n",
      "545          0.147506        0.069681             0.121421       0.305051   \n",
      "546          0.093737        0.023711             0.027311       0.416667   \n",
      "547          0.187964        0.102109             0.121173       0.307576   \n",
      "548          0.094841        0.054756             0.047788       0.262626   \n",
      "549          0.143059        0.036270             0.040557       0.462626   \n",
      "550          0.070210        0.000000             0.000000       0.303535   \n",
      "551          0.191890        0.113027             0.112177       0.489899   \n",
      "552          0.070425        0.046790             0.074503       0.241919   \n",
      "553          0.112478        0.093627             0.063718       0.319192   \n",
      "554          0.119195        0.145150             0.116451       0.255556   \n",
      "555          0.175449        0.140558             0.136083       0.269192   \n",
      "556          0.170726        0.011774             0.055467       0.369192   \n",
      "557          0.093031        0.000000             0.000000       0.344444   \n",
      "558          0.348506        0.241097             0.185686       0.198990   \n",
      "559          0.253727        0.260544             0.204026       0.165657   \n",
      "560          0.285933        0.104545             0.213917       0.240909   \n",
      "561          0.049690        0.000000             0.000000       0.000000   \n",
      "562          0.580701        0.597470             0.468638       0.539394   \n",
      "563          0.626403        0.743674             0.732604       0.550000   \n",
      "564          0.296055        0.571462             0.690358       0.336364   \n",
      "565          0.257714        0.337395             0.486630       0.349495   \n",
      "566          0.254340        0.216753             0.263519       0.267677   \n",
      "567          0.790197        0.823336             0.755467       0.675253   \n",
      "568          0.074351        0.000000             0.000000       0.266162   \n",
      "\n",
      "     fractal_dimension_mean  ...  radius_worst  texture_worst  \\\n",
      "0                  0.605518  ...      0.620776       0.141525   \n",
      "1                  0.141323  ...      0.606901       0.303571   \n",
      "2                  0.211247  ...      0.556386       0.360075   \n",
      "3                  1.000000  ...      0.248310       0.385928   \n",
      "4                  0.186816  ...      0.519744       0.123934   \n",
      "5                  0.551179  ...      0.268232       0.312633   \n",
      "6                  0.157119  ...      0.531839       0.416844   \n",
      "7                  0.517060  ...      0.324795       0.429638   \n",
      "8                  0.504002  ...      0.268943       0.498667   \n",
      "9                  0.683867  ...      0.254714       0.763859   \n",
      "10                 0.147641  ...      0.400569       0.582623   \n",
      "11                 0.228728  ...      0.444326       0.406716   \n",
      "12                 0.590564  ...      0.463536       0.477612   \n",
      "13                 0.072030  ...      0.316969       0.416844   \n",
      "14                 0.565712  ...      0.252579       0.532783   \n",
      "15                 0.438290  ...      0.339025       0.669243   \n",
      "16                 0.195029  ...      0.396300       0.502665   \n",
      "17                 0.497051  ...      0.463536       0.518657   \n",
      "18                 0.084035  ...      0.689790       0.502665   \n",
      "19                 0.162174  ...      0.255425       0.192964   \n",
      "20                 0.382266  ...      0.233725       0.225746   \n",
      "21                 0.402064  ...      0.081821       0.097015   \n",
      "22                 0.428812  ...      0.360726       0.188166   \n",
      "23                 0.059393  ...      0.755603       0.628198   \n",
      "24                 0.280960  ...      0.659196       0.520789   \n",
      "25                 0.509056  ...      0.509427       0.250000   \n",
      "26                 0.406066  ...      0.344717       0.564765   \n",
      "27                 0.148062  ...      0.475987       0.406183   \n",
      "28                 0.325190  ...      0.438990       0.658049   \n",
      "29                 0.242839  ...      0.429740       0.199893   \n",
      "..                      ...  ...           ...            ...   \n",
      "539                0.580244  ...      0.026610       0.529584   \n",
      "540                0.376158  ...      0.154038       0.204158   \n",
      "541                0.283277  ...      0.294913       0.525320   \n",
      "542                0.144061  ...      0.305229       0.540245   \n",
      "543                0.165333  ...      0.229100       0.670309   \n",
      "544                0.356361  ...      0.253291       0.339286   \n",
      "545                0.169545  ...      0.263963       0.454957   \n",
      "546                0.253791  ...      0.118107       0.259861   \n",
      "547                0.361837  ...      0.103166       0.267058   \n",
      "548                0.260952  ...      0.106724       0.361674   \n",
      "549                0.280539  ...      0.181430       0.517857   \n",
      "550                0.200505  ...      0.132693       0.339819   \n",
      "551                0.327717  ...      0.145500       0.432836   \n",
      "552                0.135004  ...      0.211313       0.639126   \n",
      "553                0.332772  ...      0.068125       0.347281   \n",
      "554                0.149958  ...      0.212024       0.632196   \n",
      "555                0.238206  ...      0.103522       0.610075   \n",
      "556                0.281171  ...      0.096763       0.289446   \n",
      "557                0.223884  ...      0.091071       0.592217   \n",
      "558                0.242418  ...      0.268588       0.406450   \n",
      "559                0.331508  ...      0.161864       0.670043   \n",
      "560                0.247473  ...      0.262184       0.563699   \n",
      "561                0.106571  ...      0.141942       0.700426   \n",
      "562                0.454086  ...      0.341160       0.820096   \n",
      "563                0.396588  ...      0.581999       0.463486   \n",
      "564                0.132056  ...      0.623266       0.383262   \n",
      "565                0.113100  ...      0.560655       0.699094   \n",
      "566                0.137321  ...      0.393099       0.589019   \n",
      "567                0.425442  ...      0.633582       0.730277   \n",
      "568                0.187026  ...      0.054287       0.489072   \n",
      "\n",
      "     perimeter_worst  area_worst  smoothness_worst  compactness_worst  \\\n",
      "0           0.668310    0.450698          0.601136           0.619292   \n",
      "1           0.539818    0.435214          0.347553           0.154563   \n",
      "2           0.508442    0.374508          0.483590           0.385375   \n",
      "3           0.241347    0.094008          0.915472           0.814012   \n",
      "4           0.506948    0.341575          0.437364           0.172415   \n",
      "5           0.263908    0.136748          0.712739           0.482784   \n",
      "6           0.511928    0.349194          0.482269           0.223448   \n",
      "7           0.299766    0.174941          0.622268           0.330753   \n",
      "8           0.277852    0.136183          0.654626           0.497531   \n",
      "9           0.235271    0.129326          0.753682           1.000000   \n",
      "10          0.365506    0.237122          0.309912           0.124002   \n",
      "11          0.428756    0.273742          0.451892           0.517711   \n",
      "12          0.504457    0.281852          0.214819           0.352194   \n",
      "13          0.306738    0.169903          0.276894           0.160191   \n",
      "14          0.290801    0.125959          0.620287           0.723006   \n",
      "15          0.367000    0.186296          0.638117           0.611627   \n",
      "16          0.363514    0.234172          0.496797           0.155048   \n",
      "17          0.430251    0.277674          0.711418           0.384211   \n",
      "18          0.679267    0.543846          0.528495           0.279138   \n",
      "19          0.245480    0.129276          0.480948           0.145540   \n",
      "20          0.227501    0.109443          0.396421           0.242852   \n",
      "21          0.073310    0.031877          0.404345           0.084903   \n",
      "22          0.371981    0.195561          0.447930           0.551183   \n",
      "23          0.685243    0.597179          0.455194           0.225776   \n",
      "24          0.630460    0.498869          0.721984           0.320662   \n",
      "25          0.507944    0.313557          0.550287           0.356657   \n",
      "26          0.358534    0.174916          0.537080           0.618030   \n",
      "27          0.445690    0.299302          0.413590           0.178916   \n",
      "28          0.492505    0.266368          0.613683           0.566318   \n",
      "29          0.420788    0.256046          0.358780           0.246345   \n",
      "..               ...         ...               ...                ...   \n",
      "539         0.020320    0.009438          0.583966           0.270794   \n",
      "540         0.141292    0.066998          0.418213           0.179013   \n",
      "541         0.314209    0.153288          0.414911           0.381203   \n",
      "542         0.283829    0.157589          0.230007           0.107023   \n",
      "543         0.209522    0.109221          0.237932           0.107508   \n",
      "544         0.242841    0.123722          0.364723           0.171154   \n",
      "545         0.234922    0.133848          0.333025           0.120703   \n",
      "546         0.103143    0.049081          0.378591           0.059309   \n",
      "547         0.102943    0.042322          0.494816           0.191431   \n",
      "548         0.093082    0.043993          0.321799           0.066139   \n",
      "549         0.166791    0.078746          0.325101           0.131958   \n",
      "550         0.117884    0.055815          0.191045           0.044814   \n",
      "551         0.136411    0.061787          0.247837           0.146414   \n",
      "552         0.187709    0.100644          0.344912           0.076753   \n",
      "553         0.062005    0.027182          0.258403           0.054031   \n",
      "554         0.191394    0.100890          0.340289           0.130696   \n",
      "555         0.095423    0.042371          0.443968           0.139428   \n",
      "556         0.087006    0.039840          0.365383           0.089948   \n",
      "557         0.080133    0.035735          0.238592           0.042970   \n",
      "558         0.276358    0.134757          0.207555           0.281175   \n",
      "559         0.158723    0.071028          0.387176           0.217724   \n",
      "560         0.247971    0.128170          0.349534           0.193178   \n",
      "561         0.123413    0.062525          0.141980           0.026826   \n",
      "562         0.389910    0.179365          0.465760           0.741634   \n",
      "563         0.640918    0.401543          0.459156           0.379651   \n",
      "564         0.576174    0.452664          0.461137           0.178527   \n",
      "565         0.520892    0.379915          0.300007           0.159997   \n",
      "566         0.379949    0.230731          0.282177           0.273705   \n",
      "567         0.668310    0.402035          0.619626           0.815758   \n",
      "568         0.043578    0.020497          0.124084           0.036043   \n",
      "\n",
      "     concavity_worst  concave points_worst  symmetry_worst  \\\n",
      "0           0.568610              0.912027        0.598462   \n",
      "1           0.192971              0.639175        0.233590   \n",
      "2           0.359744              0.835052        0.403706   \n",
      "3           0.548642              0.884880        1.000000   \n",
      "4           0.319489              0.558419        0.157500   \n",
      "5           0.427716              0.598282        0.477035   \n",
      "6           0.302236              0.663918        0.295289   \n",
      "7           0.213898              0.534708        0.321506   \n",
      "8           0.430511              0.707904        0.554504   \n",
      "9           0.882588              0.759450        0.552139   \n",
      "10          0.116534              0.342784        0.272620   \n",
      "11          0.316693              0.621993        0.438991   \n",
      "12          0.290655              0.607216        0.317564   \n",
      "13          0.185463              0.384536        0.245220   \n",
      "14          0.554553              0.758763        0.400355   \n",
      "15          0.561182              0.588316        0.522965   \n",
      "16          0.232748              0.552921        0.288587   \n",
      "17          0.382109              0.712371        0.422038   \n",
      "18          0.429073              0.820619        0.237138   \n",
      "19          0.190895              0.442612        0.278336   \n",
      "20          0.150958              0.250275        0.319141   \n",
      "21          0.070823              0.213986        0.174453   \n",
      "22          0.503594              0.822337        0.611473   \n",
      "23          0.251997              0.690378        0.247782   \n",
      "24          0.375000              0.719931        0.403706   \n",
      "25          0.307748              0.876289        0.493002   \n",
      "26          0.442412              0.928179        0.532032   \n",
      "27          0.275240              0.512027        0.152967   \n",
      "28          0.505990              0.695533        0.485314   \n",
      "29          0.198802              0.500344        0.234772   \n",
      "..               ...                   ...             ...   \n",
      "539         0.271006              0.171821        0.241474   \n",
      "540         0.143530              0.237732        0.150601   \n",
      "541         0.322684              0.414089        0.319732   \n",
      "542         0.128674              0.376289        0.228070   \n",
      "543         0.084824              0.273471        0.178987   \n",
      "544         0.109984              0.235223        0.134831   \n",
      "545         0.083786              0.246529        0.212300   \n",
      "546         0.035016              0.081821        0.219988   \n",
      "547         0.142412              0.286357        0.221959   \n",
      "548         0.074681              0.132165        0.194559   \n",
      "549         0.049473              0.112165        0.294500   \n",
      "550         0.000000              0.000000        0.176030   \n",
      "551         0.124920              0.220378        0.316184   \n",
      "552         0.069113              0.223299        0.165977   \n",
      "553         0.063842              0.088110        0.171496   \n",
      "554         0.194808              0.223127        0.159077   \n",
      "555         0.159744              0.313643        0.130298   \n",
      "556         0.008027              0.076701        0.137394   \n",
      "557         0.000000              0.000000        0.179381   \n",
      "558         0.292492              0.379725        0.136606   \n",
      "559         0.289936              0.331718        0.107826   \n",
      "560         0.105911              0.360137        0.135029   \n",
      "561         0.000000              0.000000        0.000197   \n",
      "562         0.934505              0.809622        0.497536   \n",
      "563         0.527077              0.873540        0.268874   \n",
      "564         0.328035              0.761512        0.097575   \n",
      "565         0.256789              0.559450        0.198502   \n",
      "566         0.271805              0.487285        0.128721   \n",
      "567         0.749760              0.910653        0.497142   \n",
      "568         0.000000              0.000000        0.257441   \n",
      "\n",
      "     fractal_dimension_worst  \n",
      "0                   0.418864  \n",
      "1                   0.222878  \n",
      "2                   0.213433  \n",
      "3                   0.773711  \n",
      "4                   0.142595  \n",
      "5                   0.454939  \n",
      "6                   0.187853  \n",
      "7                   0.393939  \n",
      "8                   0.342123  \n",
      "9                   1.000000  \n",
      "10                  0.193362  \n",
      "11                  0.326381  \n",
      "12                  0.309983  \n",
      "13                  0.051358  \n",
      "14                  0.577594  \n",
      "15                  0.518562  \n",
      "16                  0.177883  \n",
      "17                  0.388036  \n",
      "18                  0.138463  \n",
      "19                  0.115112  \n",
      "20                  0.175718  \n",
      "21                  0.148826  \n",
      "22                  0.291355  \n",
      "23                  0.132625  \n",
      "24                  0.266299  \n",
      "25                  0.333596  \n",
      "26                  0.475272  \n",
      "27                  0.125738  \n",
      "28                  0.286764  \n",
      "29                  0.158402  \n",
      "..                       ...  \n",
      "539                 0.338187  \n",
      "540                 0.172504  \n",
      "541                 0.309983  \n",
      "542                 0.095238  \n",
      "543                 0.061590  \n",
      "544                 0.195986  \n",
      "545                 0.095041  \n",
      "546                 0.124295  \n",
      "547                 0.260724  \n",
      "548                 0.158468  \n",
      "549                 0.139184  \n",
      "550                 0.071363  \n",
      "551                 0.165814  \n",
      "552                 0.064279  \n",
      "553                 0.123901  \n",
      "554                 0.113997  \n",
      "555                 0.182277  \n",
      "556                 0.081202  \n",
      "557                 0.096091  \n",
      "558                 0.163977  \n",
      "559                 0.211728  \n",
      "560                 0.184770  \n",
      "561                 0.026302  \n",
      "562                 0.563164  \n",
      "563                 0.286567  \n",
      "564                 0.105667  \n",
      "565                 0.074315  \n",
      "566                 0.151909  \n",
      "567                 0.452315  \n",
      "568                 0.100682  \n",
      "\n",
      "[569 rows x 30 columns]\n"
     ]
    }
   ],
   "source": [
    "#Min max scaling of all features\n",
    "X_scaled=(X-X.min())/(X.max()-X.min())\n",
    "print (\"\\nAfter Min-Max Scaling : \\n\", X_scaled) "
   ]
  },
  {
   "cell_type": "markdown",
   "metadata": {},
   "source": [
    "### Splitting data into train and test set"
   ]
  },
  {
   "cell_type": "code",
   "execution_count": 14,
   "metadata": {},
   "outputs": [],
   "source": [
    "from sklearn.model_selection import train_test_split\n",
    "X_train1, X_test1, y_train1, y_test1 = train_test_split(X, y, test_size = 0.30, random_state=5) #splitting into train and test dataset\n",
    "X_train_scaled=(X_train1-X_train1.min())/(X_train1.max()-X_train1.min())"
   ]
  },
  {
   "cell_type": "markdown",
   "metadata": {},
   "source": [
    "## Logistic Regression"
   ]
  },
  {
   "cell_type": "code",
   "execution_count": 15,
   "metadata": {},
   "outputs": [
    {
     "name": "stdout",
     "output_type": "stream",
     "text": [
      "[[-1.81448450e+00 -1.51040364e-01  1.21728232e-01 -8.47326563e-04\n",
      "   1.06329836e-01  3.13724720e-01  5.16198254e-01  2.63049220e-01\n",
      "   1.43409214e-01  1.29107208e-02 -5.79132508e-02 -1.57907498e+00\n",
      "  -2.15489592e-01  1.01066674e-01  1.18204342e-02  5.16385547e-03\n",
      "   6.27442496e-02  3.10103910e-02  2.23904882e-02 -3.44652863e-03\n",
      "  -1.68452729e+00  4.00684033e-01  1.11538566e-01  2.59632532e-02\n",
      "   1.92525275e-01  8.43143864e-01  1.29073589e+00  4.81719556e-01\n",
      "   4.52640416e-01  8.05701897e-02]]\n"
     ]
    }
   ],
   "source": [
    "#Using Logistic Regression Model\n",
    "from sklearn.linear_model import LogisticRegression\n",
    "\n",
    "from sklearn.metrics import classification_report, confusion_matrix\n",
    "\n",
    "logreg1= LogisticRegression()\n",
    "\n",
    "logreg1.fit(X_train1,y_train1)\n",
    "\n",
    "pred=logreg1.predict(X_test1)\n",
    "\n",
    "parameters = logreg1.coef_\n",
    "\n",
    "print(parameters) #parameters of the model"
   ]
  },
  {
   "cell_type": "code",
   "execution_count": 16,
   "metadata": {},
   "outputs": [
    {
     "data": {
      "text/plain": [
       "<matplotlib.axes._subplots.AxesSubplot at 0x1a6a1d76b70>"
      ]
     },
     "execution_count": 16,
     "metadata": {},
     "output_type": "execute_result"
    },
    {
     "data": {
      "image/png": "[encoded data removed]",
      "text/plain": [
       "<Figure size 432x288 with 2 Axes>"
      ]
     },
     "metadata": {},
     "output_type": "display_data"
    }
   ],
   "source": [
    "#Creating Confusion matrix for test data\n",
    "cm1 = confusion_matrix(y_test1, pred)\n",
    "\n",
    "sns.heatmap(cm1,annot=True,fmt=\"d\",cmap=\"YlGnBu\")"
   ]
  },
  {
   "cell_type": "code",
   "execution_count": 17,
   "metadata": {},
   "outputs": [
    {
     "name": "stdout",
     "output_type": "stream",
     "text": [
      "              precision    recall  f1-score   support\n",
      "\n",
      "           0       0.98      0.99      0.99       110\n",
      "           1       0.98      0.97      0.98        61\n",
      "\n",
      "   micro avg       0.98      0.98      0.98       171\n",
      "   macro avg       0.98      0.98      0.98       171\n",
      "weighted avg       0.98      0.98      0.98       171\n",
      "\n"
     ]
    }
   ],
   "source": [
    "print(classification_report(y_test1,pred)) #for test data"
   ]
  },
  {
   "cell_type": "markdown",
   "metadata": {},
   "source": [
    "## Support Vector Machine"
   ]
  },
  {
   "cell_type": "markdown",
   "metadata": {},
   "source": [
    "### SVM - Linear"
   ]
  },
  {
   "cell_type": "code",
   "execution_count": 18,
   "metadata": {},
   "outputs": [],
   "source": [
    "from sklearn.svm import SVC \n"
   ]
  },
  {
   "cell_type": "code",
   "execution_count": 19,
   "metadata": {},
   "outputs": [
    {
     "data": {
      "text/plain": [
       "array([1, 0, 0, 0, 0, 1, 0, 0, 0, 0, 0, 0, 1, 0, 0, 0, 0, 0, 0, 0, 1, 0,\n",
       "       0, 0, 0, 0, 1, 1, 0, 1, 1, 1, 1, 1, 0, 0, 1, 0, 0, 1, 0, 0, 0, 1,\n",
       "       0, 0, 1, 1, 0, 1, 0, 0, 0, 0, 0, 1, 1, 1, 0, 1, 1, 1, 0, 0, 0, 0,\n",
       "       0, 0, 0, 1, 0, 1, 0, 0, 0, 0, 0, 0, 1, 1, 1, 0, 1, 1, 1, 0, 1, 0,\n",
       "       1, 1, 1, 1, 0, 0, 1, 1, 0, 0, 0, 0, 0, 1, 0, 0, 1, 1, 1, 1, 0, 1,\n",
       "       0, 1, 0, 1, 0, 0, 1, 0, 1, 0, 0, 0, 1, 0, 1, 0, 1, 0, 0, 1, 0, 0,\n",
       "       0, 0, 0, 1, 0, 0, 0, 0, 0, 0, 0, 1, 0, 0, 0, 1, 0, 0, 0, 1, 0, 0,\n",
       "       0, 1, 0, 0, 0, 0, 0, 0, 0, 0, 1, 1, 0, 0, 0, 0, 0], dtype=int64)"
      ]
     },
     "execution_count": 19,
     "metadata": {},
     "output_type": "execute_result"
    }
   ],
   "source": [
    "#taking parameter C as 0.01\n",
    "svc0 = SVC(C=0.01, kernel='linear')\n",
    "svc0.fit(X_train1, y_train1)\n",
    "pred_0=svc0.predict(X_test1)\n",
    "pred_0 #predictions of test data"
   ]
  },
  {
   "cell_type": "code",
   "execution_count": 20,
   "metadata": {},
   "outputs": [
    {
     "data": {
      "text/plain": [
       "<matplotlib.axes._subplots.AxesSubplot at 0x1a6a291ef28>"
      ]
     },
     "execution_count": 20,
     "metadata": {},
     "output_type": "execute_result"
    },
    {
     "data": {
      "image/png": "[encoded data removed]",
      "text/plain": [
       "<Figure size 432x288 with 2 Axes>"
      ]
     },
     "metadata": {},
     "output_type": "display_data"
    }
   ],
   "source": [
    "#Creating Confusion matrix for test data\n",
    "cm_0 = confusion_matrix(y_test1, pred_0)\n",
    "\n",
    "sns.heatmap(cm_0,annot=True,fmt=\"d\",cmap=\"YlGnBu\")"
   ]
  },
  {
   "cell_type": "code",
   "execution_count": 21,
   "metadata": {},
   "outputs": [
    {
     "name": "stdout",
     "output_type": "stream",
     "text": [
      "              precision    recall  f1-score   support\n",
      "\n",
      "           0       0.97      0.99      0.98       110\n",
      "           1       0.98      0.95      0.97        61\n",
      "\n",
      "   micro avg       0.98      0.98      0.98       171\n",
      "   macro avg       0.98      0.97      0.97       171\n",
      "weighted avg       0.98      0.98      0.98       171\n",
      "\n"
     ]
    }
   ],
   "source": [
    "print(classification_report(y_test1,pred_0))"
   ]
  },
  {
   "cell_type": "code",
   "execution_count": 22,
   "metadata": {},
   "outputs": [
    {
     "data": {
      "text/plain": [
       "array([1, 0, 0, 0, 0, 1, 0, 0, 0, 0, 0, 0, 1, 0, 0, 0, 0, 0, 0, 0, 1, 0,\n",
       "       0, 0, 0, 0, 1, 1, 0, 1, 1, 1, 1, 1, 0, 0, 1, 0, 0, 1, 0, 0, 0, 1,\n",
       "       0, 0, 1, 1, 0, 1, 0, 0, 0, 0, 0, 1, 1, 1, 0, 1, 1, 1, 0, 0, 0, 0,\n",
       "       0, 0, 0, 1, 0, 1, 0, 0, 0, 0, 0, 0, 1, 1, 1, 0, 1, 1, 1, 0, 1, 0,\n",
       "       1, 1, 1, 1, 0, 0, 1, 1, 0, 0, 0, 0, 0, 1, 0, 0, 1, 1, 1, 1, 0, 1,\n",
       "       0, 1, 0, 1, 0, 0, 1, 0, 1, 0, 0, 0, 1, 0, 1, 0, 1, 0, 0, 1, 0, 0,\n",
       "       0, 0, 0, 1, 0, 0, 0, 0, 0, 0, 0, 1, 0, 0, 0, 1, 0, 0, 0, 1, 0, 0,\n",
       "       0, 1, 0, 0, 0, 0, 0, 0, 0, 0, 1, 1, 0, 0, 0, 0, 0], dtype=int64)"
      ]
     },
     "execution_count": 22,
     "metadata": {},
     "output_type": "execute_result"
    }
   ],
   "source": [
    "#taking parameter C as 0.1\n",
    "svcmodel0 = SVC(C=0.1, kernel='linear')\n",
    "svcmodel0.fit(X_train1, y_train1)\n",
    "pred_svc0=svcmodel0.predict(X_test1)\n",
    "pred_svc0"
   ]
  },
  {
   "cell_type": "code",
   "execution_count": 23,
   "metadata": {},
   "outputs": [
    {
     "data": {
      "text/plain": [
       "<matplotlib.axes._subplots.AxesSubplot at 0x1a6a29bec18>"
      ]
     },
     "execution_count": 23,
     "metadata": {},
     "output_type": "execute_result"
    },
    {
     "data": {
      "image/png": "[encoded data removed]",
      "text/plain": [
       "<Figure size 432x288 with 2 Axes>"
      ]
     },
     "metadata": {},
     "output_type": "display_data"
    }
   ],
   "source": [
    "#Creating Confusion matrix\n",
    "cm0 = confusion_matrix(y_test1, pred_svc0)\n",
    "\n",
    "sns.heatmap(cm0,annot=True,fmt=\"d\",cmap=\"YlGnBu\")"
   ]
  },
  {
   "cell_type": "code",
   "execution_count": 24,
   "metadata": {},
   "outputs": [
    {
     "name": "stdout",
     "output_type": "stream",
     "text": [
      "              precision    recall  f1-score   support\n",
      "\n",
      "           0       0.97      0.99      0.98       110\n",
      "           1       0.98      0.95      0.97        61\n",
      "\n",
      "   micro avg       0.98      0.98      0.98       171\n",
      "   macro avg       0.98      0.97      0.97       171\n",
      "weighted avg       0.98      0.98      0.98       171\n",
      "\n"
     ]
    }
   ],
   "source": [
    "print(classification_report(y_test1,pred_svc0))"
   ]
  },
  {
   "cell_type": "code",
   "execution_count": 25,
   "metadata": {},
   "outputs": [
    {
     "data": {
      "text/plain": [
       "array([1, 0, 0, 0, 0, 1, 0, 0, 0, 0, 0, 0, 1, 0, 0, 0, 0, 0, 0, 0, 1, 0,\n",
       "       0, 0, 0, 0, 1, 1, 0, 1, 1, 1, 1, 1, 0, 0, 1, 0, 0, 1, 0, 0, 0, 1,\n",
       "       0, 0, 1, 1, 0, 1, 0, 0, 0, 0, 0, 1, 1, 1, 0, 1, 1, 1, 0, 0, 0, 0,\n",
       "       0, 0, 0, 1, 0, 1, 0, 0, 0, 0, 1, 0, 1, 1, 1, 0, 1, 1, 1, 0, 1, 0,\n",
       "       1, 1, 1, 1, 0, 0, 1, 1, 0, 0, 0, 0, 0, 1, 0, 0, 1, 1, 1, 1, 0, 1,\n",
       "       0, 1, 1, 1, 0, 1, 1, 0, 1, 0, 0, 0, 1, 0, 1, 0, 1, 0, 0, 1, 0, 0,\n",
       "       0, 0, 0, 1, 0, 0, 0, 0, 0, 0, 0, 1, 0, 0, 0, 1, 0, 0, 0, 1, 0, 0,\n",
       "       0, 1, 0, 0, 0, 0, 0, 0, 0, 0, 1, 1, 0, 0, 0, 0, 0], dtype=int64)"
      ]
     },
     "execution_count": 25,
     "metadata": {},
     "output_type": "execute_result"
    }
   ],
   "source": [
    "#taking C parameter as 1\n",
    "svcmodel = SVC(C=1, kernel='linear')\n",
    "svcmodel.fit(X_train1, y_train1)\n",
    "svcmodel.fit(X_train1,y_train1)\n",
    "pred_svc=svcmodel.predict(X_test1)\n",
    "pred_svc\n"
   ]
  },
  {
   "cell_type": "code",
   "execution_count": 26,
   "metadata": {},
   "outputs": [
    {
     "data": {
      "text/plain": [
       "<matplotlib.axes._subplots.AxesSubplot at 0x1a6a2a36908>"
      ]
     },
     "execution_count": 26,
     "metadata": {},
     "output_type": "execute_result"
    },
    {
     "data": {
      "image/png": "[encoded data removed]",
      "text/plain": [
       "<Figure size 432x288 with 2 Axes>"
      ]
     },
     "metadata": {},
     "output_type": "display_data"
    }
   ],
   "source": [
    "#Creating Confusion matrix\n",
    "cm2 = confusion_matrix(y_test1, pred_svc)\n",
    "\n",
    "sns.heatmap(cm2,annot=True,fmt=\"d\",cmap=\"YlGnBu\")"
   ]
  },
  {
   "cell_type": "code",
   "execution_count": 27,
   "metadata": {},
   "outputs": [
    {
     "name": "stdout",
     "output_type": "stream",
     "text": [
      "              precision    recall  f1-score   support\n",
      "\n",
      "           0       0.99      0.98      0.99       110\n",
      "           1       0.97      0.98      0.98        61\n",
      "\n",
      "   micro avg       0.98      0.98      0.98       171\n",
      "   macro avg       0.98      0.98      0.98       171\n",
      "weighted avg       0.98      0.98      0.98       171\n",
      "\n"
     ]
    }
   ],
   "source": [
    "print(classification_report(y_test1,pred_svc))"
   ]
  },
  {
   "cell_type": "markdown",
   "metadata": {},
   "source": [
    "### SVM - RBF kernel"
   ]
  },
  {
   "cell_type": "code",
   "execution_count": 28,
   "metadata": {},
   "outputs": [
    {
     "data": {
      "text/plain": [
       "{'C': 0.01, 'gamma': 0.5}"
      ]
     },
     "execution_count": 28,
     "metadata": {},
     "output_type": "execute_result"
    }
   ],
   "source": [
    "from sklearn.model_selection import GridSearchCV  #grid search cross validation for parameter tuning\n",
    "t_parameters = [{'C': [0.01, 0.1, 1, 10],\n",
    "                     'gamma': [0.5, 1,2]}]\n",
    "model=GridSearchCV(SVC(kernel='rbf'), t_parameters, cv=10, scoring='accuracy')\n",
    "model.fit(X_train1, y_train1)\n",
    "model.best_params_"
   ]
  },
  {
   "cell_type": "code",
   "execution_count": 29,
   "metadata": {},
   "outputs": [
    {
     "data": {
      "text/plain": [
       "array([0, 0, 0, 0, 0, 0, 0, 0, 0, 0, 0, 0, 0, 0, 0, 0, 0, 0, 0, 0, 0, 0,\n",
       "       0, 0, 0, 0, 0, 0, 0, 0, 0, 0, 0, 0, 0, 0, 0, 0, 0, 0, 0, 0, 0, 0,\n",
       "       0, 0, 0, 0, 0, 0, 0, 0, 0, 0, 0, 0, 0, 0, 0, 0, 0, 0, 0, 0, 0, 0,\n",
       "       0, 0, 0, 0, 0, 0, 0, 0, 0, 0, 0, 0, 0, 0, 0, 0, 0, 0, 0, 0, 0, 0,\n",
       "       0, 0, 0, 0, 0, 0, 0, 0, 0, 0, 0, 0, 0, 0, 0, 0, 0, 0, 0, 0, 0, 0,\n",
       "       0, 0, 0, 0, 0, 0, 0, 0, 0, 0, 0, 0, 0, 0, 0, 0, 0, 0, 0, 0, 0, 0,\n",
       "       0, 0, 0, 0, 0, 0, 0, 0, 0, 0, 0, 0, 0, 0, 0, 0, 0, 0, 0, 0, 0, 0,\n",
       "       0, 0, 0, 0, 0, 0, 0, 0, 0, 0, 0, 0, 0, 0, 0, 0, 0], dtype=int64)"
      ]
     },
     "execution_count": 29,
     "metadata": {},
     "output_type": "execute_result"
    }
   ],
   "source": [
    "rbfmodel = SVC(C=0.01, kernel='rbf', gamma=0.5)\n",
    "rbfmodel.fit(X_train1, y_train1)\n",
    "pred_rbf=rbfmodel.predict(X_test1)\n",
    "pred_rbf"
   ]
  },
  {
   "cell_type": "code",
   "execution_count": 30,
   "metadata": {},
   "outputs": [
    {
     "data": {
      "text/plain": [
       "<matplotlib.axes._subplots.AxesSubplot at 0x1a6a2acaa20>"
      ]
     },
     "execution_count": 30,
     "metadata": {},
     "output_type": "execute_result"
    },
    {
     "data": {
      "image/png": "[encoded data removed]",
      "text/plain": [
       "<Figure size 432x288 with 2 Axes>"
      ]
     },
     "metadata": {},
     "output_type": "display_data"
    }
   ],
   "source": [
    "#Creating Confusion matrix\n",
    "cm_rbf = confusion_matrix(y_test1, pred_rbf)\n",
    "sns.heatmap(cm_rbf,annot=True,fmt=\"d\",cmap=\"YlGnBu\")"
   ]
  },
  {
   "cell_type": "code",
   "execution_count": 31,
   "metadata": {},
   "outputs": [
    {
     "name": "stdout",
     "output_type": "stream",
     "text": [
      "              precision    recall  f1-score   support\n",
      "\n",
      "           0       0.64      1.00      0.78       110\n",
      "           1       0.00      0.00      0.00        61\n",
      "\n",
      "   micro avg       0.64      0.64      0.64       171\n",
      "   macro avg       0.32      0.50      0.39       171\n",
      "weighted avg       0.41      0.64      0.50       171\n",
      "\n"
     ]
    }
   ],
   "source": [
    "print(classification_report(y_test1,pred_rbf))"
   ]
  },
  {
   "cell_type": "markdown",
   "metadata": {},
   "source": [
    "Results are sub-optimal so max-min normalization is done"
   ]
  },
  {
   "cell_type": "code",
   "execution_count": 32,
   "metadata": {},
   "outputs": [],
   "source": [
    "X_train_scaled=(X_train1-X_train1.min())/(X_train1.max()-X_train1.min())\n",
    "X_test_scaled=(X_test1-X_test1.min())/(X_test1.max()-X_test1.min())\n"
   ]
  },
  {
   "cell_type": "code",
   "execution_count": 33,
   "metadata": {},
   "outputs": [
    {
     "name": "stderr",
     "output_type": "stream",
     "text": [
      "C:\\Users\\HP\\Anaconda3\\lib\\site-packages\\sklearn\\model_selection\\_search.py:841: DeprecationWarning: The default of the `iid` parameter will change from True to False in version 0.22 and will be removed in 0.24. This will change numeric results when test-set sizes are unequal.\n",
      "  DeprecationWarning)\n"
     ]
    },
    {
     "data": {
      "text/plain": [
       "{'C': 1, 'gamma': 1}"
      ]
     },
     "execution_count": 33,
     "metadata": {},
     "output_type": "execute_result"
    }
   ],
   "source": [
    "#using normalized data\n",
    "from sklearn.model_selection import GridSearchCV  #grid search cross validation for parameter tuning\n",
    "t_parameters = [{'C': [0.01, 0.1, 1, 10],\n",
    "                     'gamma': [0.5, 1,2]}]\n",
    "model2 = GridSearchCV(SVC(kernel='rbf'), t_parameters, cv=10, scoring='accuracy')\n",
    "model2.fit(X_train_scaled, y_train1)\n",
    "model2.best_params_"
   ]
  },
  {
   "cell_type": "code",
   "execution_count": 34,
   "metadata": {},
   "outputs": [
    {
     "data": {
      "text/plain": [
       "array([1, 0, 0, 0, 0, 1, 0, 0, 0, 0, 0, 0, 1, 0, 0, 0, 1, 0, 0, 0, 1, 0,\n",
       "       0, 0, 0, 0, 0, 1, 0, 1, 1, 1, 0, 1, 0, 0, 1, 0, 0, 1, 0, 0, 0, 1,\n",
       "       0, 0, 1, 1, 0, 1, 0, 0, 0, 0, 0, 1, 1, 1, 0, 1, 0, 1, 0, 0, 0, 0,\n",
       "       0, 0, 0, 1, 0, 1, 0, 0, 0, 0, 1, 0, 1, 1, 1, 0, 1, 1, 1, 0, 1, 0,\n",
       "       1, 1, 1, 1, 0, 0, 1, 1, 0, 0, 0, 0, 1, 1, 0, 0, 1, 1, 0, 1, 0, 0,\n",
       "       0, 1, 1, 0, 0, 0, 0, 0, 1, 0, 0, 0, 1, 0, 1, 1, 1, 0, 0, 1, 0, 1,\n",
       "       0, 0, 0, 1, 0, 0, 0, 0, 0, 0, 0, 1, 0, 0, 0, 1, 0, 0, 1, 1, 0, 0,\n",
       "       0, 1, 0, 0, 0, 0, 0, 0, 0, 0, 1, 1, 0, 0, 0, 0, 0], dtype=int64)"
      ]
     },
     "execution_count": 34,
     "metadata": {},
     "output_type": "execute_result"
    }
   ],
   "source": [
    "rbfmodel2 = SVC(C=1, kernel='rbf', gamma=2)\n",
    "rbfmodel2.fit(X_train_scaled, y_train1)\n",
    "pred_rbf2=rbfmodel2.predict(X_test_scaled)\n",
    "pred_rbf2"
   ]
  },
  {
   "cell_type": "code",
   "execution_count": 35,
   "metadata": {},
   "outputs": [
    {
     "data": {
      "text/plain": [
       "<matplotlib.axes._subplots.AxesSubplot at 0x1a6a2ade198>"
      ]
     },
     "execution_count": 35,
     "metadata": {},
     "output_type": "execute_result"
    },
    {
     "data": {
      "image/png": "[encoded data removed]",
      "text/plain": [
       "<Figure size 432x288 with 2 Axes>"
      ]
     },
     "metadata": {},
     "output_type": "display_data"
    }
   ],
   "source": [
    "#Creating Confusion matrix\n",
    "cm_rbf2 = confusion_matrix(y_test1, pred_rbf2)\n",
    "sns.heatmap(cm_rbf2,annot=True,fmt=\"d\",cmap=\"YlGnBu\")"
   ]
  },
  {
   "cell_type": "code",
   "execution_count": 36,
   "metadata": {},
   "outputs": [
    {
     "name": "stdout",
     "output_type": "stream",
     "text": [
      "              precision    recall  f1-score   support\n",
      "\n",
      "           0       0.94      0.95      0.95       110\n",
      "           1       0.92      0.89      0.90        61\n",
      "\n",
      "   micro avg       0.93      0.93      0.93       171\n",
      "   macro avg       0.93      0.92      0.92       171\n",
      "weighted avg       0.93      0.93      0.93       171\n",
      "\n"
     ]
    }
   ],
   "source": [
    "print(classification_report(y_test1,pred_rbf2))"
   ]
  },
  {
   "cell_type": "markdown",
   "metadata": {},
   "source": [
    "### Decision Tree Classifier"
   ]
  },
  {
   "cell_type": "code",
   "execution_count": 37,
   "metadata": {},
   "outputs": [],
   "source": [
    "from sklearn import tree\n",
    "tmodel=tree.DecisionTreeClassifier()\n",
    "tmodel.fit(X_train1,y_train1)\n",
    "pred_tree=tmodel.predict(X_test1)"
   ]
  },
  {
   "cell_type": "code",
   "execution_count": 38,
   "metadata": {},
   "outputs": [
    {
     "data": {
      "text/plain": [
       "<matplotlib.axes._subplots.AxesSubplot at 0x1a6a2c2b438>"
      ]
     },
     "execution_count": 38,
     "metadata": {},
     "output_type": "execute_result"
    },
    {
     "data": {
      "image/png": "[encoded data removed]",
      "text/plain": [
       "<Figure size 432x288 with 2 Axes>"
      ]
     },
     "metadata": {},
     "output_type": "display_data"
    }
   ],
   "source": [
    "#Creating Confusion matrix\n",
    "cmtree = confusion_matrix(y_test1, pred_tree)\n",
    "sns.heatmap(cmtree,annot=True,fmt=\"d\",cmap=\"YlGnBu\")"
   ]
  },
  {
   "cell_type": "code",
   "execution_count": 39,
   "metadata": {},
   "outputs": [
    {
     "name": "stdout",
     "output_type": "stream",
     "text": [
      "              precision    recall  f1-score   support\n",
      "\n",
      "           0       0.95      0.95      0.95       110\n",
      "           1       0.90      0.92      0.91        61\n",
      "\n",
      "   micro avg       0.94      0.94      0.94       171\n",
      "   macro avg       0.93      0.93      0.93       171\n",
      "weighted avg       0.94      0.94      0.94       171\n",
      "\n"
     ]
    }
   ],
   "source": [
    "print(classification_report(y_test1,pred_tree))"
   ]
  },
  {
   "cell_type": "markdown",
   "metadata": {},
   "source": [
    "### ROC and AUC"
   ]
  },
  {
   "cell_type": "code",
   "execution_count": 41,
   "metadata": {},
   "outputs": [
    {
     "data": {
      "image/png": "[encoded data removed]",
      "text/plain": [
       "<Figure size 720x504 with 1 Axes>"
      ]
     },
     "metadata": {},
     "output_type": "display_data"
    }
   ],
   "source": [
    "#training data ROC for various models\n",
    "from sklearn.metrics import roc_curve\n",
    "ypred_train1=logreg1.predict_proba(X_train1)[:,1]\n",
    "ypred_train2=svcmodel.decision_function(X_train1)\n",
    "ypred_train3=rbfmodel2.decision_function(X_train_scaled)\n",
    "ypred_train4=tmodel.predict_proba(X_train1)[:,1]\n",
    "\n",
    "fpr, tpr, thresholds=roc_curve(y_train1, ypred_train1)\n",
    "fpr2, tpr2, thresholds2=roc_curve(y_train1, ypred_train2)\n",
    "fpr3, tpr3, thresholds3=roc_curve(y_train1, ypred_train3)\n",
    "fpr4, tpr4, thresholds4=roc_curve(y_train1, ypred_train4)\n",
    "fig1= plt.figure(figsize=(10,7))\n",
    "plt.plot([0,1],[0,1],'k--')\n",
    "plt.plot(fpr,tpr, label='Logistic Regression')\n",
    "plt.plot(fpr2,tpr2, label='SVM')\n",
    "plt.plot(fpr3,tpr3, label='SVM-RBF')\n",
    "plt.plot(fpr4,tpr4, label='Decision Tree')\n",
    "plt.xlabel('False Positive Rate')\n",
    "plt.ylabel('True Positive Rate')\n",
    "plt.title('ROC Training data')\n",
    "plt.legend()\n",
    "plt.show()"
   ]
  },
  {
   "cell_type": "code",
   "execution_count": 48,
   "metadata": {},
   "outputs": [
    {
     "name": "stdout",
     "output_type": "stream",
     "text": [
      "AUC for training data\n",
      "Logistic Regression: 0.9945572029921979\n",
      "SVM-Linear: 0.9962999705070112\n",
      "SVM-RBF: 0.9990883985307129\n",
      "Decision Tree: 1.0\n"
     ]
    }
   ],
   "source": [
    "#AUC for training data\n",
    "from sklearn.metrics import auc\n",
    "\n",
    "fpr_train_1, tpr_train_1, _ = roc_curve(y_train1, ypred_train1)\n",
    "fpr_train_2, tpr_train_2, _ = roc_curve(y_train1, ypred_train2)\n",
    "fpr_train_3, tpr_train_3, _ = roc_curve(y_train1, ypred_train3)\n",
    "fpr_train_4, tpr_train_4, _ = roc_curve(y_train1, ypred_train4)\n",
    "\n",
    "auc1 = auc(fpr_train_1, tpr_train_1)\n",
    "auc2 = auc(fpr_train_2, tpr_train_2)\n",
    "auc3 = auc(fpr_train_3, tpr_train_3)\n",
    "auc4 = auc(fpr_train_4, tpr_train_4)\n",
    "print(\"AUC for training data\")\n",
    "print(\"Logistic Regression: \"+str(auc1))\n",
    "print(\"SVM-Linear: \"+str(auc2))\n",
    "print(\"SVM-RBF: \"+str(auc3))\n",
    "print(\"Decision Tree: \"+str(auc4))\n"
   ]
  },
  {
   "cell_type": "code",
   "execution_count": 43,
   "metadata": {},
   "outputs": [
    {
     "data": {
      "image/png": "[encoded data removed]",
      "text/plain": [
       "<Figure size 720x504 with 1 Axes>"
      ]
     },
     "metadata": {},
     "output_type": "display_data"
    }
   ],
   "source": [
    "#ROC for test data\n",
    "from sklearn.metrics import roc_curve\n",
    "ypred_prob1=logreg1.predict_proba(X_test1)[:,1]\n",
    "ypred_prob2=svcmodel.decision_function(X_test1)\n",
    "ypred_prob3=rbfmodel2.decision_function(X_test_scaled)\n",
    "ypred_prob4=tmodel.predict_proba(X_test1)[:,1]\n",
    "\n",
    "fpr, tpr, thresholds=roc_curve(y_test1, ypred_prob1)\n",
    "fpr2, tpr2, thresholds2=roc_curve(y_test1, ypred_prob2)\n",
    "fpr3, tpr3, thresholds3=roc_curve(y_test1, ypred_prob3)\n",
    "fpr4, tpr4, thresholds4=roc_curve(y_test1, ypred_prob4)\n",
    "fig= plt.figure(figsize=(10,7))\n",
    "plt.plot([0,1],[0,1],'k--')\n",
    "plt.plot(fpr,tpr,label='Logistic Regression')\n",
    "plt.plot(fpr2,tpr2,label='SVM')\n",
    "plt.plot(fpr3,tpr3,label='SVM-RBF')\n",
    "plt.plot(fpr4,tpr4,label='Decision Tree')\n",
    "plt.xlabel('False Positive Rate')\n",
    "plt.ylabel('True Positive Rate')\n",
    "plt.title('ROC Test data')\n",
    "plt.legend()\n",
    "plt.show()"
   ]
  },
  {
   "cell_type": "code",
   "execution_count": 47,
   "metadata": {},
   "outputs": [
    {
     "name": "stdout",
     "output_type": "stream",
     "text": [
      "AUC for test data\n",
      "Logistic Regression: 0.9923994038748138\n",
      "SVM-linear: 0.9895678092399404\n",
      "SVM-RBF: 0.973919523099851\n",
      "Decision tree: 0.9317436661698958\n"
     ]
    }
   ],
   "source": [
    "#AUC for test data\n",
    "from sklearn.metrics import auc\n",
    "fpr_test_1, tpr_test_1, _ = roc_curve(y_test1, ypred_prob1)\n",
    "fpr_test_2, tpr_test_2, _ = roc_curve(y_test1, ypred_prob2)\n",
    "fpr_test_3, tpr_test_3, _ = roc_curve(y_test1, ypred_prob3)\n",
    "fpr_test_4, tpr_test_4, _ = roc_curve(y_test1, ypred_prob4)\n",
    "\n",
    "testauc1 = auc(fpr_test_1, tpr_test_1)\n",
    "testauc2 = auc(fpr_test_2, tpr_test_2)\n",
    "testauc3 = auc(fpr_test_3, tpr_test_3)\n",
    "testauc4 = auc(fpr_test_4, tpr_test_4)\n",
    "print(\"AUC for test data\")\n",
    "print(\"Logistic Regression: \"+str(testauc1))\n",
    "print(\"SVM-linear: \"+str(testauc2))\n",
    "print(\"SVM-RBF: \"+str(testauc3))\n",
    "print(\"Decision tree: \"+str(testauc4))"
   ]
  },
  {
   "cell_type": "markdown",
   "metadata": {},
   "source": [
    "### Hence, according to AUC for test data, Logistic regression model shows the best results."
   ]
  }
 ],
 "metadata": {
  "kernelspec": {
   "display_name": "Python 3",
   "language": "python",
   "name": "python3"
  },
  "language_info": {
   "codemirror_mode": {
    "name": "ipython",
    "version": 3
   },
   "file_extension": ".py",
   "mimetype": "text/x-python",
   "name": "python",
   "nbconvert_exporter": "python",
   "pygments_lexer": "ipython3",
   "version": "3.7.3"
  }
 },
 "nbformat": 4,
 "nbformat_minor": 2
}
